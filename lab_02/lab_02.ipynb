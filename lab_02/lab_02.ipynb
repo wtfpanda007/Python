{
 "cells": [
  {
   "cell_type": "markdown",
   "id": "12f9630c",
   "metadata": {},
   "source": [
    "#### 07.11.23, &copy; Kudryavets Yehor KI-21-1, 2023"
   ]
  },
  {
   "cell_type": "markdown",
   "id": "d3dc8ad3",
   "metadata": {},
   "source": [
    "# Лабораторна робота №2. Функція `print()`"
   ]
  },
  {
   "cell_type": "markdown",
   "id": "d7b37027",
   "metadata": {},
   "source": [
    "__Мета:__ _навчитися писати і запускати найпростіші програми на Python з використанням функції `print()`_"
   ]
  },
  {
   "cell_type": "markdown",
   "id": "ede5c8cc",
   "metadata": {},
   "source": [
    "# Хід роботи"
   ]
  },
  {
   "cell_type": "markdown",
   "id": "50a40c99",
   "metadata": {},
   "source": [
    "1.Змінити код програми, щоби очикуваний результат виглядав наступним чином:\n",
    "`Programming***Essentials***in...Python`"
   ]
  },
  {
   "cell_type": "code",
   "execution_count": 4,
   "id": "1e96ba0e",
   "metadata": {},
   "outputs": [
    {
     "name": "stdout",
     "output_type": "stream",
     "text": [
      "Programming***Essential***in...Python\n"
     ]
    }
   ],
   "source": [
    "print(\"Programming\", \"Essential\", \"in...\",sep=\"***\",end=\"\")\n",
    "print(\"Python\",)"
   ]
  },
  {
   "cell_type": "markdown",
   "id": "3e702160",
   "metadata": {},
   "source": [
    "2.Написати програму, яка виводила б на екран наступну картинку:"
   ]
  },
  {
   "cell_type": "code",
   "execution_count": 8,
   "id": "be6f4bec",
   "metadata": {},
   "outputs": [
    {
     "name": "stdout",
     "output_type": "stream",
     "text": [
      "      * \n",
      "     * * \n",
      "    *   *  \n",
      "   *     * \n",
      "  ***   ***  \n",
      "    *   * \n",
      "    *   * \n",
      "    *****\n"
     ]
    }
   ],
   "source": [
    "print(\"      *\",\"\\n     * *\",\"\\n    *   * \",\"\\n   *     *\",\"\\n  ***   *** \",\"\\n    *   *\",\"\\n    *   *\",\"\\n    *****\")"
   ]
  },
  {
   "cell_type": "markdown",
   "id": "7b367085",
   "metadata": {},
   "source": [
    "3.Вивести на екран наступний рядок: `I'm student`"
   ]
  },
  {
   "cell_type": "code",
   "execution_count": 11,
   "id": "73a0ba32",
   "metadata": {},
   "outputs": [
    {
     "name": "stdout",
     "output_type": "stream",
     "text": [
      "I'm student\n"
     ]
    }
   ],
   "source": [
    "print(\"I\\'m student\")"
   ]
  },
  {
   "cell_type": "markdown",
   "id": "52400195",
   "metadata": {},
   "source": [
    "4.Написати фрагмент кода в один рядок, використовуючи функцію print(), а також символи нового рядка та esсape-символи, щоби відповідати очикуваному результату, виведеному у трьох рядках:"
   ]
  },
  {
   "cell_type": "code",
   "execution_count": 13,
   "id": "6ce78617",
   "metadata": {},
   "outputs": [
    {
     "name": "stdout",
     "output_type": "stream",
     "text": [
      "\"I'm\" \n",
      "\"\"learning\"\" \n",
      "\"\"\"Python\"\"\"\n"
     ]
    }
   ],
   "source": [
    "print(\"\\\"I\\'m\\\"\",\"\\n\\\"\\\"learning\\\"\\\"\",\"\\n\\\"\\\"\\\"Python\\\"\\\"\\\"\")"
   ]
  },
  {
   "cell_type": "markdown",
   "id": "adb5c16e",
   "metadata": {},
   "source": [
    "5.Чому в десятковій системі дорівнює $500_8$ та $777_{16}$? Написати код на Python."
   ]
  },
  {
   "cell_type": "code",
   "execution_count": 15,
   "id": "4f223c34",
   "metadata": {},
   "outputs": [
    {
     "name": "stdout",
     "output_type": "stream",
     "text": [
      "320\n",
      "1911\n"
     ]
    }
   ],
   "source": [
    "print(0o500)\n",
    "\n",
    "print(0x777)"
   ]
  },
  {
   "cell_type": "markdown",
   "id": "0ca4ec0c",
   "metadata": {},
   "source": [
    "## Контрольні запитання"
   ]
  },
  {
   "cell_type": "markdown",
   "id": "5a39d641",
   "metadata": {},
   "source": [
    "1.Записати ієрархію операторів."
   ]
  },
  {
   "cell_type": "markdown",
   "id": "533505bf",
   "metadata": {},
   "source": [
    "У Python існує ієрархія операторів, яка визначає порядок виконання різних операторів у виразах. Нижче наведена загальна ієрархія операторів у порядку пріоритету від найвищого до найнижчого:\n",
    "\n",
    "1.Постфіксні оператори:\n",
    "- () - Виклик функції\n",
    "- [] - Індексація (звернення до елементів списків, кортежів, рядків тощо)\n",
    "- . - Доступ до атрибутів об'єкта\n",
    "\n",
    "2.Префіксні оператори:\n",
    "- +x, -x - Унарний плюс та мінус (позитивне і негативне число)\n",
    "- ~x - Побітова інверсія (поворот бітів)\n",
    "\n",
    "3.Арифметичні оператори:\n",
    "- ** - Піднесення до степеня\n",
    "- *, /, % - Множення, ділення, залишок від ділення\n",
    "- +, - - Додавання, віднімання\n",
    "\n",
    "4.Порівняння (реляційні) оператори:\n",
    "- <, > - Менше та більше\n",
    "- <=, >= - Менше або дорівнює та більше або дорівнює\n",
    "- ==, != - Рівно та не рівно\n",
    "\n",
    "5.Логічні оператори:\n",
    "- not - Логічне заперечення\n",
    "- and - Логічне \"І\"\n",
    "- or - Логічне \"АБО\"\n",
    "\n",
    "6.Присвоєння операторів:\n",
    "- = - Присвоєння\n",
    "- +=, -= - Присвоєння з додаванням або відніманням\n",
    "- *=, /= - Присвоєння з множенням або діленням\n",
    "- %= - Присвоєння з взяттям залишку від ділення\n",
    "- **= - Присвоєння з піднесенням до степеня\n",
    "\n",
    "7.Побітові оператори:\n",
    "\n",
    "- & - Побітове \"І\"\n",
    "- | - Побітове \"АБО\"\n",
    "- ^ - Побітове виключне \"АБО\"\n",
    "- <<, >> - Зсув вліво та вправо\n",
    "\n",
    "8.Інші оператори:\n",
    "- is - Перевірка на тотожність об'єктів\n",
    "- is not - Перевірка на невідповідність об'єктів\n",
    "- in - Перевірка членства у послідовності\n",
    "- not in - Перевірка відсутності членства у послідовності"
   ]
  },
  {
   "cell_type": "markdown",
   "id": "36b6cf22",
   "metadata": {},
   "source": [
    "2.Записати на Python обчислення виразу $3^{3^4}$"
   ]
  },
  {
   "cell_type": "code",
   "execution_count": 20,
   "id": "fe2bbafb",
   "metadata": {},
   "outputs": [
    {
     "name": "stdout",
     "output_type": "stream",
     "text": [
      "443426488243037769948249630619149892803\n"
     ]
    }
   ],
   "source": [
    "print(3**3**4)"
   ]
  },
  {
   "cell_type": "markdown",
   "id": "45920054",
   "metadata": {},
   "source": [
    "3.Що робить escape-символ `\\n` при виводі на екран функцією `print()`?\n"
   ]
  },
  {
   "cell_type": "markdown",
   "id": "ae5dbd23",
   "metadata": {},
   "source": [
    "`\\n`- Перевод рядка. Вставка цього символу приводить до переходу до нового рядка."
   ]
  },
  {
   "cell_type": "code",
   "execution_count": 24,
   "id": "467a1456",
   "metadata": {},
   "outputs": [
    {
     "name": "stdout",
     "output_type": "stream",
     "text": [
      "Рядок 1\n",
      "Рядок 2\n"
     ]
    }
   ],
   "source": [
    "print(\"Рядок 1\\nРядок 2\")"
   ]
  },
  {
   "cell_type": "markdown",
   "id": "0f87caac",
   "metadata": {},
   "source": [
    "## References"
   ]
  },
  {
   "cell_type": "markdown",
   "id": "876178ce",
   "metadata": {},
   "source": [
    "1.https://github.com/wtfpanda007/Python - посилання на GitHub-репозиторій"
   ]
  }
 ],
 "metadata": {
  "kernelspec": {
   "display_name": "Python 3 (ipykernel)",
   "language": "python",
   "name": "python3"
  },
  "language_info": {
   "codemirror_mode": {
    "name": "ipython",
    "version": 3
   },
   "file_extension": ".py",
   "mimetype": "text/x-python",
   "name": "python",
   "nbconvert_exporter": "python",
   "pygments_lexer": "ipython3",
   "version": "3.11.0"
  }
 },
 "nbformat": 4,
 "nbformat_minor": 5
}
