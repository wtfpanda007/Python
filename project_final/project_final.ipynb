{
 "cells": [
  {
   "cell_type": "markdown",
   "id": "3cbd3c6d-f76b-45fd-aec4-a69a0c8ac98a",
   "metadata": {},
   "source": [
    "#### 21.11.23, &copy; Kudryavets Yehor KI-21-1, 2023"
   ]
  },
  {
   "cell_type": "markdown",
   "id": "6d137721-a913-433b-9d00-7f6eeb3610e4",
   "metadata": {},
   "source": [
    "# Фінальний проєкт І"
   ]
  },
  {
   "cell_type": "markdown",
   "id": "70539753-6291-4871-bb6c-ea69085545f3",
   "metadata": {},
   "source": [
    "__Мета:__ досконалення навичок у використанні Python для розв’язання складних завдань."
   ]
  },
  {
   "cell_type": "markdown",
   "id": "2f30c399-2235-47e7-8469-a112498b0e3b",
   "metadata": {},
   "source": [
    "# Хід роботи"
   ]
  },
  {
   "cell_type": "markdown",
   "id": "0081fc0f-e8d9-4b38-845a-c9c29aeeeb93",
   "metadata": {},
   "source": [
    "1.Написати просту програму, яка вдає, ніби грає з користувачем у хрестики-нуліки."
   ]
  },
  {
   "cell_type": "code",
   "execution_count": 1,
   "id": "32d6d3d2-0f71-47de-9f8d-2991921be3d6",
   "metadata": {},
   "outputs": [
    {
     "name": "stdout",
     "output_type": "stream",
     "text": [
      "1 2 3 \n",
      "4 5 6 \n",
      "7 8 9 \n",
      "1 2 3 \n",
      "4 \u001b[94mX\u001b[0m 6 \n",
      "7 8 9 \n"
     ]
    },
    {
     "name": "stdin",
     "output_type": "stream",
     "text": [
      "Ваш хід (введіть номер вільного квадрата від 1 до 9):  1\n"
     ]
    },
    {
     "name": "stdout",
     "output_type": "stream",
     "text": [
      "\u001b[91mO\u001b[0m 2 3 \n",
      "4 \u001b[94mX\u001b[0m 6 \n",
      "7 8 9 \n",
      "\u001b[91mO\u001b[0m 2 3 \n",
      "\u001b[94mX\u001b[0m \u001b[94mX\u001b[0m 6 \n",
      "7 8 9 \n"
     ]
    },
    {
     "name": "stdin",
     "output_type": "stream",
     "text": [
      "Ваш хід (введіть номер вільного квадрата від 1 до 9):  2\n"
     ]
    },
    {
     "name": "stdout",
     "output_type": "stream",
     "text": [
      "\u001b[91mO\u001b[0m \u001b[91mO\u001b[0m 3 \n",
      "\u001b[94mX\u001b[0m \u001b[94mX\u001b[0m 6 \n",
      "7 8 9 \n",
      "\u001b[91mO\u001b[0m \u001b[91mO\u001b[0m 3 \n",
      "\u001b[94mX\u001b[0m \u001b[94mX\u001b[0m 6 \n",
      "\u001b[94mX\u001b[0m 8 9 \n"
     ]
    },
    {
     "name": "stdin",
     "output_type": "stream",
     "text": [
      "Ваш хід (введіть номер вільного квадрата від 1 до 9):  3\n"
     ]
    },
    {
     "name": "stdout",
     "output_type": "stream",
     "text": [
      "\u001b[91mO\u001b[0m \u001b[91mO\u001b[0m \u001b[91mO\u001b[0m \n",
      "\u001b[94mX\u001b[0m \u001b[94mX\u001b[0m 6 \n",
      "\u001b[94mX\u001b[0m 8 9 \n",
      "Ви перемогли!\n"
     ]
    }
   ],
   "source": [
    "from random import randrange\n",
    "\n",
    "# Кольори\n",
    "BLUE = '\\033[94m'\n",
    "RED = '\\033[91m'\n",
    "RESET = '\\033[0m'\n",
    "\n",
    "def display_board(board):\n",
    "    \"\"\"Виведення дошки.\"\"\"\n",
    "    for row in board:\n",
    "        for elem in row:\n",
    "            if elem == 'X':\n",
    "                print(BLUE + elem + RESET, end=' ')\n",
    "            elif elem == 'O':\n",
    "                print(RED + elem + RESET, end=' ')\n",
    "            else:\n",
    "                print(elem, end=' ')\n",
    "        print()\n",
    "\n",
    "def check_winner(board, player):\n",
    "    \"\"\"Перевірка переможця.\"\"\"\n",
    "    for row in board:\n",
    "        if all(cell == player for cell in row):\n",
    "            return True\n",
    "\n",
    "    for col in range(3):\n",
    "        if all(board[row][col] == player for row in range(3)):\n",
    "            return True\n",
    "\n",
    "    if all(board[i][i] == player for i in range(3)) or all(board[i][2 - i] == player for i in range(3)):\n",
    "        return True\n",
    "\n",
    "    return False\n",
    "\n",
    "def is_board_full(board):\n",
    "    \"\"\"Перевірка чи дошка заповнена.\"\"\"\n",
    "    for row in board:\n",
    "        if any(cell.isdigit() for cell in row):\n",
    "            return False\n",
    "    return True\n",
    "\n",
    "def make_computer_move(board):\n",
    "    \"\"\"Хід комп'ютера.\"\"\"\n",
    "    while True:\n",
    "        row = randrange(3)\n",
    "        col = randrange(3)\n",
    "        if board[row][col].isdigit():\n",
    "            board[row][col] = 'X'\n",
    "            break\n",
    "\n",
    "def main():\n",
    "    \"\"\"Головна функція гри.\"\"\"\n",
    "    board = [['1', '2', '3'], ['4', '5', '6'], ['7', '8', '9']]\n",
    "    display_board(board)\n",
    "\n",
    "    while True:\n",
    "        # Хід комп'ютера\n",
    "        make_computer_move(board)\n",
    "        display_board(board)\n",
    "\n",
    "        # Перевірка переможця (комп'ютер)\n",
    "        if check_winner(board, 'X'):\n",
    "            print(\"Комп'ютер переміг!\")\n",
    "            break\n",
    "\n",
    "        # Перевірка на нічию\n",
    "        if is_board_full(board):\n",
    "            print(\"Гра закінчилася внічию!\")\n",
    "            break\n",
    "\n",
    "        # Хід користувача\n",
    "        while True:\n",
    "            try:\n",
    "                user_choice = int(input(\"Ваш хід (введіть номер вільного квадрата від 1 до 9): \"))\n",
    "                if 1 <= user_choice <= 9 and str(user_choice) == board[(user_choice - 1) // 3][(user_choice - 1) % 3]:\n",
    "                    board[(user_choice - 1) // 3][(user_choice - 1) % 3] = 'O'\n",
    "                    break\n",
    "                else:\n",
    "                    print(\"Невірний ввід. Спробуйте ще раз.\")\n",
    "            except ValueError:\n",
    "                print(\"Невірний ввід. Введіть ціле число.\")\n",
    "\n",
    "        display_board(board)\n",
    "\n",
    "        # Перевірка переможця (користувач)\n",
    "        if check_winner(board, 'O'):\n",
    "            print(\"Ви перемогли!\")\n",
    "            break\n",
    "\n",
    "        # Перевірка на нічию\n",
    "        if is_board_full(board):\n",
    "            print(\"Гра закінчилася внічию!\")\n",
    "            break\n",
    "\n",
    "if __name__ == \"__main__\":\n",
    "    main()"
   ]
  },
  {
   "cell_type": "markdown",
   "id": "52377fbd-4467-43d8-bd8f-3dd6fd1bb6b6",
   "metadata": {},
   "source": [
    "## References"
   ]
  },
  {
   "cell_type": "markdown",
   "id": "862e902d-2c07-4056-a020-7f155a699c76",
   "metadata": {},
   "source": [
    "1.https://github.com/wtfpanda007/Python - посилання на GitHub-репозиторій"
   ]
  }
 ],
 "metadata": {
  "kernelspec": {
   "display_name": "Python 3 (ipykernel)",
   "language": "python",
   "name": "python3"
  },
  "language_info": {
   "codemirror_mode": {
    "name": "ipython",
    "version": 3
   },
   "file_extension": ".py",
   "mimetype": "text/x-python",
   "name": "python",
   "nbconvert_exporter": "python",
   "pygments_lexer": "ipython3",
   "version": "3.11.0"
  }
 },
 "nbformat": 4,
 "nbformat_minor": 5
}
