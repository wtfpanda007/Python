{
 "cells": [
  {
   "cell_type": "markdown",
   "id": "0a5279b8-fc4a-465f-986c-4e019e60d52e",
   "metadata": {},
   "source": [
    "#### 08.11.23, &copy; Kudryavets Yehor KI-21-1, 2023"
   ]
  },
  {
   "cell_type": "markdown",
   "id": "8dec4316-8c72-4d4a-ba51-d657259bf77d",
   "metadata": {},
   "source": [
    "# Лабораторна робота №3. Змінні. Базові операції вводу/виводу"
   ]
  },
  {
   "cell_type": "markdown",
   "id": "47cd7e91-1b72-413b-9098-55c3a6e29487",
   "metadata": {},
   "source": [
    "__Мета:__ _освоїти роботу зі змінними та операції вводу і виводу_"
   ]
  },
  {
   "cell_type": "markdown",
   "id": "75bb7944-2162-4c8e-89e3-fa8b365e12db",
   "metadata": {},
   "source": [
    "# Хід роботи"
   ]
  },
  {
   "cell_type": "markdown",
   "id": "b2adae29-9a90-47d4-9316-bdaa0098bd09",
   "metadata": {},
   "source": [
    "1.Написати програму, яка обчислює значення функції Гауса:"
   ]
  },
  {
   "cell_type": "code",
   "execution_count": 2,
   "id": "267381c3-a6d0-4bf5-8c63-47597742d69c",
   "metadata": {},
   "outputs": [
    {
     "name": "stdin",
     "output_type": "stream",
     "text": [
      "Введіть значення x:  1\n",
      "Введіть значення y:  1\n",
      "Введіть значення z:  2\n"
     ]
    },
    {
     "name": "stdout",
     "output_type": "stream",
     "text": [
      "Значення функції Гауса для x = 1.0, y = 1.0, z = 2.0: 0.24197072451914337\n"
     ]
    }
   ],
   "source": [
    "import math\n",
    "x = float(input(\"Введіть значення x: \"))\n",
    "y = float(input(\"Введіть значення y: \"))\n",
    "z = float(input(\"Введіть значення z: \"))\n",
    "\n",
    "i = 1 / (y * math.sqrt(2 * math.pi)) * math.exp(-((z - x) ** 2) / (2 * y ** 2))\n",
    "\n",
    "print(f'Значення функції Гауса для x = {x}, y = {y}, z = {z}: {i}')\n"
   ]
  },
  {
   "cell_type": "markdown",
   "id": "a8af0133-db8f-4813-ac05-e6069b7f9003",
   "metadata": {},
   "source": [
    "2.Створити змінні: john, mary, і adam, надати значення змінним. Вивести змінні в один рядок і розділити їх комами, створити нову змінну з ім’ям totalApple, що дорівнює сумі трьох попередніх змінних. Вивести значення, збережене в totalapples, в консоль. Надрукувати рядок та ціле число разом в одному рядку, наприклад, “Загальна кількість яблук:” та total_apples."
   ]
  },
  {
   "cell_type": "code",
   "execution_count": 3,
   "id": "ec80f8ea-8363-4ded-afe8-ba13e5fa5dbe",
   "metadata": {},
   "outputs": [
    {
     "name": "stdout",
     "output_type": "stream",
     "text": [
      "john: 3, mary: 5, adam: 6\n",
      "14\n",
      "Загальна кількість яблук: 14\n"
     ]
    }
   ],
   "source": [
    "john = 3\n",
    "mary = 5\n",
    "adam = 6\n",
    "\n",
    "print(f'john: {john}, mary: {mary}, adam: {adam}')\n",
    "totalApple = john + mary + adam\n",
    "\n",
    "print(totalApple)\n",
    "print(f\"Загальна кількість яблук: {totalApple}\")"
   ]
  },
  {
   "cell_type": "markdown",
   "id": "bae1d3ed-2729-44a9-8a85-f45f17cd16a6",
   "metadata": {},
   "source": [
    "3.Написати програму, щоб вона перетворила: милі у кілометри та кілометри на милі."
   ]
  },
  {
   "cell_type": "code",
   "execution_count": 4,
   "id": "072d2888-548e-436f-82c0-1671d6b0f659",
   "metadata": {},
   "outputs": [
    {
     "name": "stdout",
     "output_type": "stream",
     "text": [
      "7.38 miles is 11.88 kilometers\n",
      "12.25 kilometers is 7.61 miles\n"
     ]
    }
   ],
   "source": [
    "miles = 7.38\n",
    "kilometers = 12.25\n",
    "\n",
    "miles_to_kilometers = miles * 1.61\n",
    "kilometers_to_miles = kilometers / 1.61\n",
    "\n",
    "print(miles, \"miles is\", round(miles_to_kilometers, 2), \"kilometers\")\n",
    "print(kilometers, \"kilometers is\", round(kilometers_to_miles, 2), \"miles\")"
   ]
  },
  {
   "cell_type": "markdown",
   "id": "c19ad22e-6096-4797-ac1b-e0bd53e77325",
   "metadata": {},
   "source": [
    "4.Завершити код, щоб розрахувати такий вираз:"
   ]
  },
  {
   "cell_type": "markdown",
   "id": "3b0f1d21-19f2-4d42-844e-b2f783eaa934",
   "metadata": {},
   "source": [
    "![](img/1.png)"
   ]
  },
  {
   "cell_type": "code",
   "execution_count": 5,
   "id": "a0c64f9b-ace5-4983-b943-7ae1611cbdf9",
   "metadata": {},
   "outputs": [
    {
     "name": "stdout",
     "output_type": "stream",
     "text": [
      "y = 3.0\n"
     ]
    }
   ],
   "source": [
    "x = 1\n",
    "x = float(x)\n",
    "y = 3 * (x**3) - 2 * (x**2) + 3**x - 1\n",
    "print(\"y =\", y)"
   ]
  },
  {
   "cell_type": "markdown",
   "id": "7669cdb5-8818-4c24-9d69-cb2bfd51d993",
   "metadata": {},
   "source": [
    "5.Покращити код: додати або видалити коментарі там, де це доречно:"
   ]
  },
  {
   "cell_type": "code",
   "execution_count": 6,
   "id": "c9a3e1a6-8217-4cf5-8b31-255b26725714",
   "metadata": {},
   "outputs": [
    {
     "name": "stdout",
     "output_type": "stream",
     "text": [
      "Seconds in Hours:  7200\n"
     ]
    }
   ],
   "source": [
    "# this program computes the number of seconds in a given number of hours\n",
    "\n",
    "hours = 2 # number of hours\n",
    "seconds = 3600 # number of seconds in 1 hour\n",
    "\n",
    "print(\"Seconds in Hours: \", hours * seconds) # printing the number of seconds in a given number of hours\n",
    "\n",
    "#this is the end of the program that computes the number of seconds in 2 hour\n"
   ]
  },
  {
   "cell_type": "markdown",
   "id": "b8d7979a-c1ca-4895-a127-02eda96cbba3",
   "metadata": {},
   "source": [
    "6.Завершити код, щоб отримати результати чотирьох основних арифметичних операцій."
   ]
  },
  {
   "cell_type": "code",
   "execution_count": 7,
   "id": "4a92c832-275e-4697-af7d-8901b90880e8",
   "metadata": {},
   "outputs": [
    {
     "name": "stdin",
     "output_type": "stream",
     "text": [
      "Введіть значення x:  10\n",
      "Введіть значення y:  10\n"
     ]
    },
    {
     "name": "stdout",
     "output_type": "stream",
     "text": [
      "Операція додавання: 20.0\n",
      "Операція віднімання: 0.0\n",
      "Операція множення: 100.0\n",
      "Операція ділення: 1.0\n"
     ]
    }
   ],
   "source": [
    "x = float(input(\"Введіть значення x: \"))\n",
    "y = float(input(\"Введіть значення y: \"))\n",
    "\n",
    "print(\"Операція додавання:\", x + y)\n",
    "print(\"Операція віднімання:\", x - y)\n",
    "print(\"Операція множення:\", x * y)\n",
    "print(\"Операція ділення:\", x / y)\n"
   ]
  },
  {
   "cell_type": "markdown",
   "id": "df77a51b-35a8-4e67-a6ce-02a37fbf0c5b",
   "metadata": {},
   "source": [
    "7.Завершити код, щоб оцінити такий вираз:"
   ]
  },
  {
   "cell_type": "markdown",
   "id": "e97d63c3-a1eb-4341-b30e-e10a8c5a33da",
   "metadata": {},
   "source": [
    "![](img/2.png)"
   ]
  },
  {
   "cell_type": "code",
   "execution_count": 8,
   "id": "9457e801-7a2c-4f94-ba98-9ab05c09be90",
   "metadata": {},
   "outputs": [
    {
     "name": "stdin",
     "output_type": "stream",
     "text": [
      "Enter value for x:  -2\n"
     ]
    },
    {
     "name": "stdout",
     "output_type": "stream",
     "text": [
      "y = -0.4142857142857143\n"
     ]
    }
   ],
   "source": [
    "x = float(input(\"Enter value for x: \"))\n",
    "\n",
    "y= 1 / (x + (1 / (x + (1 / (x + (1 / (x + (1 / x))))))))\n",
    "\n",
    "print(\"y =\", y)"
   ]
  },
  {
   "cell_type": "markdown",
   "id": "66fd567d-91ad-4e0e-97bf-2c823a46c7c1",
   "metadata": {},
   "source": [
    "8.Підготувати простий код, здатний порахувати час закінчення періоду часу, вираженого в кількості хвилин. Час початку вказується у вигляді пари годин `(0..23)` та хвилин `(0..59)`.Результат повинен бути надрукований на консолі."
   ]
  },
  {
   "cell_type": "code",
   "execution_count": 9,
   "id": "adf0d878-3990-4b9a-b10b-d7ba6bec1ded",
   "metadata": {},
   "outputs": [
    {
     "name": "stdin",
     "output_type": "stream",
     "text": [
      "Введіть години початку (0-23):  14\n",
      "Введіть хвилини початку (0-59):  30\n",
      "Введіть тривалість події у хвилинах:  120\n"
     ]
    },
    {
     "name": "stdout",
     "output_type": "stream",
     "text": [
      "Подія закінчується о 16:30\n"
     ]
    }
   ],
   "source": [
    "start_hour = int(input(\"Введіть години початку (0-23): \"))\n",
    "start_minute = int(input(\"Введіть хвилини початку (0-59): \"))\n",
    "duration_minutes = int(input(\"Введіть тривалість події у хвилинах: \"))\n",
    "\n",
    "end_hour = (start_hour + (start_minute + duration_minutes) // 60) % 24\n",
    "end_minute = (start_minute + duration_minutes) % 60\n",
    "\n",
    "print(f\"Подія закінчується о {end_hour}:{end_minute}\")"
   ]
  },
  {
   "cell_type": "markdown",
   "id": "1afefdd1-1859-4112-bdf7-ea16b4909835",
   "metadata": {},
   "source": [
    "## Контрольні запитання"
   ]
  },
  {
   "cell_type": "markdown",
   "id": "c56f77f9-409b-4e86-bff0-c7ed2e1543d3",
   "metadata": {},
   "source": [
    "1.Який вивід наступного фрагмента коду?"
   ]
  },
  {
   "cell_type": "markdown",
   "id": "2ec05172-1813-436b-99be-e0ec4f30f37a",
   "metadata": {},
   "source": [
    "Цей код приймає введене користувачем ціле число, а потім виводить рядок, який складається з символу \"5\", повтореного задану кількість разів, де ця кількість разів визначається введеним числом."
   ]
  },
  {
   "cell_type": "code",
   "execution_count": 10,
   "id": "8ab28538-dbef-4954-95f3-bc8f302095d6",
   "metadata": {},
   "outputs": [
    {
     "name": "stdin",
     "output_type": "stream",
     "text": [
      "Enter a number: 10\n"
     ]
    },
    {
     "name": "stdout",
     "output_type": "stream",
     "text": [
      "5555555555\n"
     ]
    }
   ],
   "source": [
    "x = int(input(\"Enter a number:\"))\n",
    "print(x * \"5\")"
   ]
  },
  {
   "cell_type": "markdown",
   "id": "c89e9f54-faee-402e-92da-fab680678fed",
   "metadata": {},
   "source": [
    "2.Який очікуваний результат наступного фрагмента?"
   ]
  },
  {
   "cell_type": "markdown",
   "id": "38986509-1f20-4612-a806-c3e13d57393c",
   "metadata": {},
   "source": [
    "Другий рядок використовує функцію `type()` для визначення типу змінної x і виводить цей тип на екран. Таким чином, код виведе на екран тип введеного числа."
   ]
  },
  {
   "cell_type": "code",
   "execution_count": 11,
   "id": "3ff9ef97-98ca-42eb-8aab-1f8a852055c2",
   "metadata": {},
   "outputs": [
    {
     "name": "stdin",
     "output_type": "stream",
     "text": [
      "Enter a number: 10\n"
     ]
    },
    {
     "name": "stdout",
     "output_type": "stream",
     "text": [
      "<class 'int'>\n"
     ]
    }
   ],
   "source": [
    "x = int(input(\"Enter a number:\"))\n",
    "print(type(x))"
   ]
  },
  {
   "cell_type": "markdown",
   "id": "f877b47a-78d8-4821-b67a-44ee97f8e54e",
   "metadata": {},
   "source": [
    "## References"
   ]
  },
  {
   "cell_type": "markdown",
   "id": "a3f60766-0a03-4039-9370-964a48822a81",
   "metadata": {},
   "source": [
    "1.https://github.com/wtfpanda007/Python - посилання на GitHub-репозиторій"
   ]
  }
 ],
 "metadata": {
  "kernelspec": {
   "display_name": "Python 3 (ipykernel)",
   "language": "python",
   "name": "python3"
  },
  "language_info": {
   "codemirror_mode": {
    "name": "ipython",
    "version": 3
   },
   "file_extension": ".py",
   "mimetype": "text/x-python",
   "name": "python",
   "nbconvert_exporter": "python",
   "pygments_lexer": "ipython3",
   "version": "3.11.0"
  }
 },
 "nbformat": 4,
 "nbformat_minor": 5
}
