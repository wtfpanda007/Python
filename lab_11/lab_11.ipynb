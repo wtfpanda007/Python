{
 "cells": [
  {
   "cell_type": "markdown",
   "id": "2c7b61f0-2168-4a44-bdb6-3ceb4f3817ba",
   "metadata": {},
   "source": [
    "#### 24.11.23, &copy; Kudryavets Yehor KI-21-1, 2023"
   ]
  },
  {
   "cell_type": "markdown",
   "id": "d4ceb74a-b85e-424e-a80c-9460523af2e1",
   "metadata": {},
   "source": [
    "# Лабораторна робота №11. Об’єктно-орієнтоване програмування. Частина І"
   ]
  },
  {
   "cell_type": "markdown",
   "id": "8cdef914-f9f0-42a1-8e9d-dbaa222335c8",
   "metadata": {},
   "source": [
    "__Мета:__ навчитися обробляти рядки за допомогою спеціальних функцій і методів."
   ]
  },
  {
   "cell_type": "markdown",
   "id": "70cec1f3-f401-4de5-a1a9-ef146f4b6d5f",
   "metadata": {},
   "source": [
    "# Хід роботи"
   ]
  },
  {
   "cell_type": "markdown",
   "id": "52e06a0a-5e83-411d-8f9e-1eff33d702a2",
   "metadata": {},
   "source": [
    "1.Розширити поведінку класу Stack таким чином, щоб клас міг підраховувати всі елементи, що додаються і видаляються (ми припускаємо, що підрахунку видалень достатньо). Використовуйте клас Stack, який надано нижче."
   ]
  },
  {
   "cell_type": "code",
   "execution_count": 1,
   "id": "c511af59-dce1-4af1-8a75-3bce75cb21c1",
   "metadata": {},
   "outputs": [
    {
     "name": "stdout",
     "output_type": "stream",
     "text": [
      "100\n"
     ]
    }
   ],
   "source": [
    "class Stack:\n",
    "    def __init__(self):\n",
    "        self.__stk = []\n",
    "\n",
    "    def push(self, val):\n",
    "        self.__stk.append(val)\n",
    "\n",
    "    def pop(self):\n",
    "        val = self.__stk[-1]\n",
    "        del self.__stk[-1]\n",
    "        return val\n",
    "\n",
    "\n",
    "class CountingStack(Stack):\n",
    "    def __init__(self):\n",
    "        super().__init__()\n",
    "        self.__count = 0\n",
    "\n",
    "    def get_counter(self):\n",
    "        return self.__count\n",
    "\n",
    "    def pop(self):\n",
    "        val = super().pop()\n",
    "        self.__count += 1\n",
    "        return val\n",
    "\n",
    "\n",
    "stk = CountingStack()\n",
    "for i in range(100):\n",
    "    stk.push(i)\n",
    "    stk.pop()\n",
    "print(stk.get_counter())"
   ]
  },
  {
   "cell_type": "markdown",
   "id": "1e4c9193-4a45-4edc-8acc-3a6af1730acc",
   "metadata": {},
   "source": [
    "2.реалізувати клас Queue з двома основними операціями: put(element), яка поміщає елемент на кінець черги; get(), яка бере елемент із початку черги і повертає його як результат (черга не може бути порожньою для успішного виконання)."
   ]
  },
  {
   "cell_type": "code",
   "execution_count": 2,
   "id": "6ea21a85-acb7-4e97-9bc0-7a51a1a784de",
   "metadata": {},
   "outputs": [
    {
     "name": "stdout",
     "output_type": "stream",
     "text": [
      "1\n",
      "dog\n",
      "False\n",
      "Queue error\n"
     ]
    }
   ],
   "source": [
    "class QueueError(Exception): \n",
    "    pass\n",
    "class Queue:\n",
    "    def __init__(self):\n",
    "        self.list_queue = []\n",
    "\n",
    "    def put(self, elem):\n",
    "        self.list_queue.insert(0, elem)\n",
    "\n",
    "\n",
    "    def get(self):\n",
    "        if not len(self.list_queue):\n",
    "            raise QueueError\n",
    "        else:\n",
    "            elem = self.list_queue.pop()\n",
    "        return elem\n",
    "que = Queue()\n",
    "que.put(1)\n",
    "que.put(\"dog\")\n",
    "que.put(False)\n",
    "# print(que.get())\n",
    "try:\n",
    "    for i in range(4):\n",
    "        print(que.get())\n",
    "except QueueError:\n",
    "    print(\"Queue error\")"
   ]
  },
  {
   "cell_type": "markdown",
   "id": "875ec965-3165-4604-91d0-8f3ecd73a782",
   "metadata": {},
   "source": [
    "3.Ваше завдання:трохи розширити можливості класу Queue (див. попередній приклад). Нам потрібен метод без параметрів, який повертає True, якщо черга порожня, і False інакше."
   ]
  },
  {
   "cell_type": "code",
   "execution_count": 3,
   "id": "a76e101e-5d1f-4918-b772-e419fb1f6fa6",
   "metadata": {},
   "outputs": [
    {
     "name": "stdout",
     "output_type": "stream",
     "text": [
      "1\n",
      "dog\n",
      "False\n",
      "Queue empty\n"
     ]
    }
   ],
   "source": [
    "class QueueError(Exception):\n",
    "    pass\n",
    "\n",
    "class Queue:\n",
    "    def __init__(self):\n",
    "        self.__queue = []\n",
    "\n",
    "    def put(self, element):\n",
    "        self.__queue.insert(0, element)\n",
    "\n",
    "    def get(self):\n",
    "        if not self.__queue:\n",
    "            raise QueueError(\"Queue is empty\")\n",
    "        return self.__queue.pop()\n",
    "\n",
    "    def isempty(self):\n",
    "        return not bool(self.__queue)\n",
    "class SuperQueue(Queue):\n",
    "    pass\n",
    "\n",
    "que = SuperQueue()\n",
    "que.put(1)\n",
    "que.put(\"dog\")\n",
    "que.put(False)\n",
    "for i in range(4):\n",
    "    if not que.isempty():\n",
    "        print(que.get())\n",
    "    else:\n",
    "        print(\"Queue empty\")"
   ]
  },
  {
   "cell_type": "markdown",
   "id": "4216e6de-63b8-4d61-84d6-e6bc00729e2a",
   "metadata": {},
   "source": [
    "## Контрольні запитання"
   ]
  },
  {
   "cell_type": "markdown",
   "id": "bc51616c-75c4-47aa-a374-00910583640c",
   "metadata": {},
   "source": [
    "1.У наступному оголошенні чогось не вистачає – чого?"
   ]
  },
  {
   "cell_type": "code",
   "execution_count": 4,
   "id": "3906be6e-7526-4345-88d7-c9241c3019ef",
   "metadata": {},
   "outputs": [
    {
     "name": "stdout",
     "output_type": "stream",
     "text": [
      "Sssssss\n"
     ]
    }
   ],
   "source": [
    "class Snakes:\n",
    "    def __init__(self):\n",
    "        self.sound = 'Sssssss'\n",
    "snake_instance = Snakes()\n",
    "print(snake_instance.sound)"
   ]
  },
  {
   "cell_type": "markdown",
   "id": "aa623fae-763f-41e0-8b91-5487c0541b63",
   "metadata": {},
   "source": [
    "2.Припускаючи, що існує клас з ім’ям Snake, напишіть перший рядок оголошення класу Python, вказавши, що новий клас насправді є підкласом NewSnake."
   ]
  },
  {
   "cell_type": "code",
   "execution_count": 5,
   "id": "2eb6c25e-44bb-464d-a500-d49773426fdd",
   "metadata": {},
   "outputs": [
    {
     "name": "stdout",
     "output_type": "stream",
     "text": [
      "Sssssss\n"
     ]
    }
   ],
   "source": [
    "class Snakes:\n",
    "    def __init__(self):\n",
    "        self.sound = 'Sssssss'\n",
    "class NewSnake(Snakes):\n",
    "    pass\n",
    "new_snake_instance = NewSnake()\n",
    "print(new_snake_instance.sound) "
   ]
  },
  {
   "cell_type": "markdown",
   "id": "bf711c21-b808-43ff-bded-5eb5c026ac67",
   "metadata": {},
   "source": [
    "3.Змініть код, щоб гарантувати, що властивість venomous є приватною."
   ]
  },
  {
   "cell_type": "code",
   "execution_count": 6,
   "id": "67392777-c6ab-453b-af45-d13a5879e2e8",
   "metadata": {},
   "outputs": [
    {
     "name": "stdout",
     "output_type": "stream",
     "text": [
      "True\n",
      "False\n"
     ]
    }
   ],
   "source": [
    "class Snaker:\n",
    "    def __init__(self):\n",
    "        self.__venomous = True\n",
    "\n",
    "    def get_venomous(self):\n",
    "        return self.__venomous\n",
    "\n",
    "    def set_venomous(self, value):\n",
    "        self.__venomous = value\n",
    "\n",
    "snake_instance = Snaker()\n",
    "print(snake_instance.get_venomous()) \n",
    "snake_instance.set_venomous(False)\n",
    "print(snake_instance.get_venomous())"
   ]
  },
  {
   "cell_type": "markdown",
   "id": "f4b683b6-42b6-4e94-9bda-d5fff4d6dcc3",
   "metadata": {},
   "source": [
    "## References"
   ]
  },
  {
   "cell_type": "markdown",
   "id": "5722c477-7e3e-4d6b-a33b-b59fef20f31b",
   "metadata": {},
   "source": [
    "1.https://github.com/wtfpanda007/Python - посилання на GitHub-репозиторій"
   ]
  }
 ],
 "metadata": {
  "kernelspec": {
   "display_name": "Python 3 (ipykernel)",
   "language": "python",
   "name": "python3"
  },
  "language_info": {
   "codemirror_mode": {
    "name": "ipython",
    "version": 3
   },
   "file_extension": ".py",
   "mimetype": "text/x-python",
   "name": "python",
   "nbconvert_exporter": "python",
   "pygments_lexer": "ipython3",
   "version": "3.11.0"
  }
 },
 "nbformat": 4,
 "nbformat_minor": 5
}
