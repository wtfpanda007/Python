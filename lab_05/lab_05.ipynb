{
 "cells": [
  {
   "cell_type": "markdown",
   "id": "e30a4729-9b70-4a0d-abe4-db66d474ca1f",
   "metadata": {},
   "source": [
    "#### 10.11.23, &copy; Kudryavets Yehor KI-21-1, 2023"
   ]
  },
  {
   "cell_type": "markdown",
   "id": "17acd919-baf3-4d80-aa8d-535279135c0b",
   "metadata": {},
   "source": [
    "# Лабораторна робота №5. Списки"
   ]
  },
  {
   "cell_type": "markdown",
   "id": "55431d36-8eec-4d09-a86f-28c1b40b8477",
   "metadata": {},
   "source": [
    "__Мета:__ освоїти роботу зі списками"
   ]
  },
  {
   "cell_type": "markdown",
   "id": "bcbd4ef4-e5ce-4fe3-9a9f-afc6d4f09b01",
   "metadata": {},
   "source": [
    "# Хід роботи"
   ]
  },
  {
   "cell_type": "markdown",
   "id": "f2901d75-746a-4597-9e41-6b177ff16058",
   "metadata": {},
   "source": [
    "1.Напишіть рядок коду, що пропонує користувачеві замінити число всередині списку цілим числом, введеним користувачем.Напишіть рядок коду, який видаляє останній елемент зі списку.Напишіть рядок коду, який друкує довжину існуючого списку."
   ]
  },
  {
   "cell_type": "code",
   "execution_count": 2,
   "id": "e689a782-5da8-4bcd-a290-aa63bdc1c69f",
   "metadata": {},
   "outputs": [
    {
     "name": "stdin",
     "output_type": "stream",
     "text": [
      "Введіть індекс числа, яке ви хочете замінити:  1\n",
      "Введіть нове число:  2\n"
     ]
    },
    {
     "name": "stdout",
     "output_type": "stream",
     "text": [
      "Довжина списку: 4\n",
      "Оновлений список: [1, 2, 3, 4]\n"
     ]
    }
   ],
   "source": [
    "new_list = [1, 4, 3, 4, 5]\n",
    "index_change = int(input(\"Введіть індекс числа, яке ви хочете замінити: \"))\n",
    "new_number = int(input(\"Введіть нове число: \"))\n",
    "new_list[index_change] = new_number\n",
    "\n",
    "new_list.pop()\n",
    "\n",
    "print(\"Довжина списку:\", len(new_list))\n",
    "print(\"Оновлений список:\", new_list)"
   ]
  },
  {
   "cell_type": "markdown",
   "id": "34c4c295-8fcc-417c-9aca-45c49c6aae04",
   "metadata": {},
   "source": [
    "2.Написати програму сортування списку у порядку зростання методом бульбашки."
   ]
  },
  {
   "cell_type": "code",
   "execution_count": 3,
   "id": "9fe888cf-3322-4f27-9dd3-1ef4f7fb2269",
   "metadata": {},
   "outputs": [
    {
     "name": "stdout",
     "output_type": "stream",
     "text": [
      "Відсортований список: [1, 8, 14, 26, 30, 42, 55]\n"
     ]
    }
   ],
   "source": [
    "arr_list = [26, 42, 30, 14, 8, 55, 1]\n",
    "\n",
    "n = len(arr_list)\n",
    "for i in range(n):\n",
    "    for j in range(0, n - i - 1):\n",
    "        if arr_list[j] > arr_list[j + 1]:\n",
    "            arr_list[j], arr_list[j + 1] = arr_list[j + 1], arr_list[j]\n",
    "\n",
    "print(\"Відсортований список:\", arr_list)"
   ]
  },
  {
   "cell_type": "markdown",
   "id": "6439dc1d-46a3-4e94-be6e-4f254859d7f9",
   "metadata": {},
   "source": [
    "3.Написати програму, яка видаляє всі дублікати чисел зі списку."
   ]
  },
  {
   "cell_type": "code",
   "execution_count": 4,
   "id": "25c142ff-7aec-4746-80d9-27f52345c31b",
   "metadata": {},
   "outputs": [
    {
     "name": "stdout",
     "output_type": "stream",
     "text": [
      "Список без дублікатів: [3, 5, 7, 9]\n"
     ]
    }
   ],
   "source": [
    "arr_list = [3, 3, 5, 5, 5, 7, 7, 9, 9]\n",
    "result = []\n",
    "\n",
    "for index in arr_list:\n",
    "    if index not in result:\n",
    "        result.append(index)\n",
    "\n",
    "print(\"Список без дублікатів:\", result)"
   ]
  },
  {
   "cell_type": "markdown",
   "id": "57e3e586-0879-4ff3-9015-9a77b6dc585b",
   "metadata": {},
   "source": [
    "4.Напишіть код, використоувуючи генератори списків, який створює матрицю 8х8 з пустими клітинками (пуста клітинка задається як “_“) для задання шахівниці і розставте чотири тури по кутках шахівниці."
   ]
  },
  {
   "cell_type": "code",
   "execution_count": 5,
   "id": "a2b0085b-6dca-40b3-9d3c-fc877df9dfb9",
   "metadata": {},
   "outputs": [
    {
     "name": "stdout",
     "output_type": "stream",
     "text": [
      "T _ _ _ _ _ _ T\n",
      "_ _ _ _ _ _ _ _\n",
      "_ _ _ _ _ _ _ _\n",
      "_ _ _ _ _ _ _ _\n",
      "_ _ _ _ _ _ _ _\n",
      "_ _ _ _ _ _ _ _\n",
      "_ _ _ _ _ _ _ _\n",
      "T _ _ _ _ _ _ T\n"
     ]
    }
   ],
   "source": [
    "board = [[\"_\" for _ in range(8)] for _ in range(8)]\n",
    "\n",
    "board[0][0] = \"T\"  \n",
    "board[0][7] = \"T\" \n",
    "board[7][0] = \"T\"  \n",
    "board[7][7] = \"T\"  \n",
    "\n",
    "for index in board:\n",
    "    print(\" \".join(index))"
   ]
  },
  {
   "cell_type": "markdown",
   "id": "95a0aa1f-2496-46ee-be93-8c0dc500629d",
   "metadata": {},
   "source": [
    "## Контрольні запитання"
   ]
  },
  {
   "cell_type": "markdown",
   "id": "8df56205-b79b-4d20-8d66-22615617a034",
   "metadata": {},
   "source": [
    "1.Який вивод наступного фрагмента?"
   ]
  },
  {
   "cell_type": "code",
   "execution_count": 6,
   "id": "16d07312-2fc0-4acd-8b9f-77bc9635f0d1",
   "metadata": {},
   "outputs": [
    {
     "name": "stdout",
     "output_type": "stream",
     "text": [
      "['C']\n"
     ]
    }
   ],
   "source": [
    "list_1 = [\"A\",\"B\",\"C\"]\n",
    "list_2 = list_1\n",
    "list_3 = list_2\n",
    "\n",
    "del list_1[0]\n",
    "del list_2[0]\n",
    "\n",
    "print(list_3)"
   ]
  },
  {
   "cell_type": "markdown",
   "id": "7c161637-41f2-40ff-ae0d-70137455a238",
   "metadata": {},
   "source": [
    "2.Який вивод наступного фрагмента?"
   ]
  },
  {
   "cell_type": "code",
   "execution_count": 7,
   "id": "5d49de51-cbcc-436a-9413-1bb15eba8a0c",
   "metadata": {},
   "outputs": [
    {
     "name": "stdout",
     "output_type": "stream",
     "text": [
      "['B', 'C']\n"
     ]
    }
   ],
   "source": [
    "list_1 = [\"A\",\"B\",\"C\"]\n",
    "list_2 = list_1\n",
    "list_3 = list_2\n",
    "\n",
    "del list_1[0]\n",
    "del list_2\n",
    "\n",
    "print(list_3)"
   ]
  },
  {
   "cell_type": "markdown",
   "id": "3c1b6c8a-9fcd-4b5c-b860-ea39a29c2a0e",
   "metadata": {},
   "source": [
    "3.Який вивод наступного фрагмента?"
   ]
  },
  {
   "cell_type": "code",
   "execution_count": 8,
   "id": "c61438d5-8332-40b1-9b04-460e3dfffffe",
   "metadata": {},
   "outputs": [
    {
     "name": "stdout",
     "output_type": "stream",
     "text": [
      "['A', 'B', 'C']\n"
     ]
    }
   ],
   "source": [
    "list_1 = [\"A\",\"B\",\"C\"]\n",
    "list_2 = list_1[:]\n",
    "list_3 = list_2[:]\n",
    "\n",
    "del list_1[0]\n",
    "del list_2[:]\n",
    "\n",
    "print(list_3)"
   ]
  },
  {
   "cell_type": "markdown",
   "id": "12a3632e-dfee-4ff4-899f-aae4c4b60c12",
   "metadata": {},
   "source": [
    "4.Який вивод наступного фрагмента?"
   ]
  },
  {
   "cell_type": "code",
   "execution_count": 9,
   "id": "5cde490f-3c02-4ce2-84da-04e06ab3346c",
   "metadata": {},
   "outputs": [
    {
     "name": "stdout",
     "output_type": "stream",
     "text": [
      "['A', 'B', 'C']\n"
     ]
    }
   ],
   "source": [
    "list_1 = [\"A\",\"B\",\"C\"]\n",
    "list_2 = list_1[:]\n",
    "list_3 = list_2[:]\n",
    "\n",
    "del list_1[0]\n",
    "del list_2[0]\n",
    "\n",
    "print(list_3)"
   ]
  },
  {
   "cell_type": "markdown",
   "id": "90ecae81-132c-4d61-9f10-0ed488f342ae",
   "metadata": {},
   "source": [
    "## References"
   ]
  },
  {
   "cell_type": "markdown",
   "id": "9b273828-c797-4ebc-bb8e-b1cbc1b3c989",
   "metadata": {},
   "source": [
    "1.https://github.com/wtfpanda007/Python - посилання на GitHub-репозиторій"
   ]
  }
 ],
 "metadata": {
  "kernelspec": {
   "display_name": "Python 3 (ipykernel)",
   "language": "python",
   "name": "python3"
  },
  "language_info": {
   "codemirror_mode": {
    "name": "ipython",
    "version": 3
   },
   "file_extension": ".py",
   "mimetype": "text/x-python",
   "name": "python",
   "nbconvert_exporter": "python",
   "pygments_lexer": "ipython3",
   "version": "3.11.0"
  }
 },
 "nbformat": 4,
 "nbformat_minor": 5
}
