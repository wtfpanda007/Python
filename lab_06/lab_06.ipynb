{
 "cells": [
  {
   "cell_type": "markdown",
   "id": "b55e693b-f7f6-4506-bb62-2a358c8e9876",
   "metadata": {},
   "source": [
    "#### 11.11.23, &copy; Kudryavets Yehor KI-21-1, 2023"
   ]
  },
  {
   "cell_type": "markdown",
   "id": "0de47fb5-c8f8-45f9-a3e1-768cd904ad71",
   "metadata": {},
   "source": [
    "# Лабораторна робота №6. Функції"
   ]
  },
  {
   "cell_type": "markdown",
   "id": "88e46f0d-d87e-4cf2-9955-c4ad1192ade6",
   "metadata": {},
   "source": [
    "__Мета:__  навчитися писати функції та користуватися ними"
   ]
  },
  {
   "cell_type": "markdown",
   "id": "57dc56e5-3c83-45d8-86fc-c3a4ca9a1c52",
   "metadata": {},
   "source": [
    "# Хід роботи"
   ]
  },
  {
   "cell_type": "markdown",
   "id": "630e17f0-af97-44cd-89e7-5ccb08dc2682",
   "metadata": {},
   "source": [
    "1.Написати і протестувати функцію, яка приймає один аргумент (рік) і повертає True, якщо рік є високосним, або False інакше."
   ]
  },
  {
   "cell_type": "code",
   "execution_count": 1,
   "id": "cbe85c54-a331-4679-89d1-a62c73bd368d",
   "metadata": {},
   "outputs": [
    {
     "name": "stdout",
     "output_type": "stream",
     "text": [
      "1900 ->OK\n",
      "2000 ->OK\n",
      "2016 ->OK\n",
      "1987 ->OK\n"
     ]
    }
   ],
   "source": [
    "def is_year_leap(year):\n",
    "    if (year % 4 == 0 and year % 100 != 0) or year % 400 == 0:\n",
    "        return True\n",
    "    else:\n",
    "        return False\n",
    "\n",
    "test_data = [1900, 2000, 2016, 1987]\n",
    "test_results = [False, True, True, False]\n",
    "\n",
    "for i in range(len(test_data)):\n",
    "    yr = test_data[i]\n",
    "    print(yr, \"->\", end=\"\")\n",
    "    result = is_year_leap(yr)\n",
    "    if result == test_results[i]:\n",
    "        print(\"OK\")\n",
    "    else:\n",
    "        print(\"Failed\")"
   ]
  },
  {
   "cell_type": "markdown",
   "id": "99868b9c-6bb8-4cb9-81cc-b654fea44b1c",
   "metadata": {},
   "source": [
    "2.Написати та протестувати функцію, яка приймає два аргументи (рік і місяць) і повертає кількість днів для даної пари рік-місяць (у той час, як тільки лютий чутливий до значення year, Ваша функція має бути універсальною)."
   ]
  },
  {
   "cell_type": "code",
   "execution_count": 2,
   "id": "d292f174-cde7-4766-91af-ca3fb76934fa",
   "metadata": {},
   "outputs": [
    {
     "name": "stdout",
     "output_type": "stream",
     "text": [
      "1900 2 ->OK\n",
      "2000 2 ->OK\n",
      "2016 1 ->OK\n",
      "1987 11 ->OK\n"
     ]
    }
   ],
   "source": [
    "def is_year_leap(year):\n",
    "    if (year % 4 == 0 and year % 100 != 0) or (year % 400 == 0):\n",
    "        return True\n",
    "    else:\n",
    "        return False\n",
    "\n",
    "def days_in_month(year, month):\n",
    "    days_per_month = {\n",
    "        1: 31,\n",
    "        2: 29 if is_year_leap(year) else 28,\n",
    "        3: 31,\n",
    "        4: 30,\n",
    "        5: 31,\n",
    "        6: 30,\n",
    "        7: 31,\n",
    "        8: 31,\n",
    "        9: 30,\n",
    "        10: 31,\n",
    "        11: 30,\n",
    "        12: 31\n",
    "    }\n",
    "    if 1 <= month <= 12:\n",
    "        return days_per_month[month]\n",
    "    else:\n",
    "        return None\n",
    "        \n",
    "test_years = [1900, 2000, 2016, 1987]\n",
    "test_months = [2, 2, 1, 11]\n",
    "test_results = [28, 29, 31, 30]\n",
    "for i in range(len(test_years)):\n",
    "    yr = test_years[i]\n",
    "    mo = test_months[i]\n",
    "    print(yr, mo, \"->\", end=\"\")\n",
    "    result = days_in_month(yr, mo)\n",
    "    if result == test_results[i]:\n",
    "        print(\"OK\")\n",
    "    else:\n",
    "        print(\"Failed\")"
   ]
  },
  {
   "cell_type": "markdown",
   "id": "29446d51-b62e-4805-b763-16c5a7dc5630",
   "metadata": {},
   "source": [
    "3.Написати та протестувати функцію, яка приймає три аргументи (рік, місяць та день місяця) та повертає відповідний день року або None, якщо якийсь із аргументів невірний."
   ]
  },
  {
   "cell_type": "code",
   "execution_count": 3,
   "id": "a67cd707-a5df-4014-9ac6-a2361b5c74e6",
   "metadata": {},
   "outputs": [
    {
     "name": "stdout",
     "output_type": "stream",
     "text": [
      "366\n"
     ]
    }
   ],
   "source": [
    "def is_year_leap(year):\n",
    "    if (year % 4 == 0 and year % 100 != 0) or (year % 400 == 0):\n",
    "        return True\n",
    "    else:\n",
    "        return False\n",
    "\n",
    "def days_in_month(year, month):\n",
    "    days_per_month = {\n",
    "        1: 31,\n",
    "        2: 29 if is_year_leap(year) else 28,\n",
    "        3: 31,\n",
    "        4: 30,\n",
    "        5: 31,\n",
    "        6: 30,\n",
    "        7: 31,\n",
    "        8: 31,\n",
    "        9: 30,\n",
    "        10: 31,\n",
    "        11: 30,\n",
    "        12: 31\n",
    "    }\n",
    "    return days_per_month.get(month, None)\n",
    "\n",
    "def day_of_year(year, month, day):\n",
    "    if (1 <= month <= 12) and (1 <= day <= days_in_month(year, month)):\n",
    "        day_count = day\n",
    "        for m in range(1, month):\n",
    "            day_count += days_in_month(year, m)\n",
    "        return day_count\n",
    "    else:\n",
    "        return None\n",
    "print(day_of_year(2000, 12, 31))"
   ]
  },
  {
   "cell_type": "markdown",
   "id": "1991be39-9074-483c-859c-89e1a1b026bf",
   "metadata": {},
   "source": [
    "4.Написати функцію, що перевіряє, чи є число простим чи ні."
   ]
  },
  {
   "cell_type": "code",
   "execution_count": 4,
   "id": "ada7d84a-0a27-4215-bbbf-1dc07752388b",
   "metadata": {},
   "outputs": [
    {
     "name": "stdout",
     "output_type": "stream",
     "text": [
      "2 3 5 7 11 13 17 19 \n"
     ]
    }
   ],
   "source": [
    "def is_prime(num):\n",
    "    if num <= 1:\n",
    "        return False\n",
    "    for i in range(2, int(num**0.5) + 1):\n",
    "        if num % i == 0:\n",
    "            return False\n",
    "    return True\n",
    "\n",
    "for i in range(1, 20):\n",
    "    if is_prime(i + 1):\n",
    "        print(i + 1, end=\" \")\n",
    "print()"
   ]
  },
  {
   "cell_type": "markdown",
   "id": "b8af812e-99ea-4943-a570-e9f8525b1256",
   "metadata": {},
   "source": [
    "5.Написати дві функції, що конвертують л/100км в миль на галон, і навпаки."
   ]
  },
  {
   "cell_type": "code",
   "execution_count": 5,
   "id": "17af6a34-70a1-46d2-8e4b-5af029a4f9ed",
   "metadata": {},
   "outputs": [
    {
     "name": "stdout",
     "output_type": "stream",
     "text": [
      "60.31776386033689\n",
      "31.365237207375184\n",
      "23.523927905531387\n",
      "3.901148906389948\n",
      "7.4916967852010785\n",
      "10.010182087460164\n"
     ]
    }
   ],
   "source": [
    "def liters_100km_to_miles_gallon(liters):\n",
    "    miles_per_gallon = (100 * 3.785) / (liters * 1.609)\n",
    "    return miles_per_gallon\n",
    "\n",
    "def miles_gallon_to_liters_100km(miles):\n",
    "    liters_per_100km = (100* 3.785) / (miles * 1.609)\n",
    "    return liters_per_100km\n",
    "\n",
    "print(liters_100km_to_miles_gallon(3.9))\n",
    "print(liters_100km_to_miles_gallon(7.5))\n",
    "print(liters_100km_to_miles_gallon(10.))\n",
    "print(miles_gallon_to_liters_100km(60.3))\n",
    "print(miles_gallon_to_liters_100km(31.4))\n",
    "print(miles_gallon_to_liters_100km(23.5))"
   ]
  },
  {
   "cell_type": "markdown",
   "id": "a7d16a75-0b99-42ef-959d-25cf670b14a0",
   "metadata": {},
   "source": [
    "6.Написати функцію, яка перевіряє, чи три сторони заданої довжини побудувати трикутник. Вона має повернути `True`, якщо сторони можуть утворити трикутник, і `False` в іншому випадку. У цьому випадку `is_a_triangle(a, b, c)` – гарна назва для такої функції."
   ]
  },
  {
   "cell_type": "code",
   "execution_count": 6,
   "id": "a982f2cf-7971-4658-918a-3d06ade83ffa",
   "metadata": {},
   "outputs": [
    {
     "name": "stdout",
     "output_type": "stream",
     "text": [
      "True\n",
      "False\n"
     ]
    }
   ],
   "source": [
    "def is_a_triangle(a, b, c):\n",
    "    if a + b > c and a + c > b and b + c > a:\n",
    "        return True\n",
    "    else:\n",
    "        return False\n",
    "print(is_a_triangle(5, 5, 5))\n",
    "print(is_a_triangle(3, 4, 7))"
   ]
  },
  {
   "cell_type": "markdown",
   "id": "d6979036-ee83-46cc-881d-7fee431e0f70",
   "metadata": {},
   "source": [
    "7.Написати функцію is_a_right_triangle(a, b, c), яка перевіряє, чи є трикутник зі сторонами a, b, c прямокутним. При цьому потрібно використати функцію is_a_triangle(a, b, c) з завдання 6."
   ]
  },
  {
   "cell_type": "code",
   "execution_count": 7,
   "id": "9f1f8409-a3cc-47af-b3b2-192e6d33e91d",
   "metadata": {},
   "outputs": [
    {
     "name": "stdout",
     "output_type": "stream",
     "text": [
      "False\n",
      "False\n",
      "True\n",
      "True\n"
     ]
    }
   ],
   "source": [
    "def is_a_triangle(a, b, c):\n",
    "    if a + b > c and a + c > b and b + c > a:\n",
    "        return True\n",
    "    else:\n",
    "        return False\n",
    "def is_a_right_triangle(a, b, c):\n",
    "    if is_a_triangle(a, b, c):\n",
    "        if a**2 + b**2 == c**2 or a**2 + c**2 == b**2 or b**2 + c**2 == a**2:\n",
    "            return True\n",
    "    return False\n",
    "    \n",
    "print(is_a_right_triangle(5, 5, 5)) \n",
    "print(is_a_right_triangle(3, 4, 7)) \n",
    "print(is_a_right_triangle(5, 12, 13))  \n",
    "print(is_a_right_triangle(7, 24, 25))  "
   ]
  },
  {
   "cell_type": "markdown",
   "id": "7646e815-65fe-48e9-9dd1-9eae1383169b",
   "metadata": {},
   "source": [
    "## Контрольні запитання"
   ]
  },
  {
   "cell_type": "markdown",
   "id": "9927cc3e-ece7-43f1-9a8c-c9fbb7e54585",
   "metadata": {},
   "source": [
    "1.Який вивод наступного фрагмента?"
   ]
  },
  {
   "cell_type": "markdown",
   "id": "9c5cd7a9-61fe-4a45-a92d-cb9acf53dbd5",
   "metadata": {},
   "source": [
    "У  коді виводиться значення змінної alt поза областю видимості цієї змінної. Змінна alt визначена в межах функції message, і вона не є глобальною змінною, доступною поза цією функцією. Виведеться помилка."
   ]
  },
  {
   "cell_type": "markdown",
   "id": "817bdf5c-e0c8-4ee4-ab4f-54baacc81bc8",
   "metadata": {},
   "source": [
    "2.Який вивод наступного фрагмента?"
   ]
  },
  {
   "cell_type": "code",
   "execution_count": 8,
   "id": "7fc5ddd0-a97d-40d7-9c1e-a4467af41c71",
   "metadata": {},
   "outputs": [
    {
     "name": "stdout",
     "output_type": "stream",
     "text": [
      "2\n",
      "1\n"
     ]
    }
   ],
   "source": [
    "a=1\n",
    "\n",
    "def fun():\n",
    "    a=2\n",
    "    print(a)\n",
    "    \n",
    "fun()\n",
    "print(a)"
   ]
  },
  {
   "cell_type": "markdown",
   "id": "a46bf632-3f73-4068-bb6f-6fec01325358",
   "metadata": {},
   "source": [
    "Спочатку виведеться значення локальної змінної a всередині функції, а потім глобальної змінної a поза нею."
   ]
  },
  {
   "cell_type": "markdown",
   "id": "366aa33d-b443-466a-ac84-7c319b86d6a1",
   "metadata": {},
   "source": [
    "3.Який вивод наступного фрагмента?"
   ]
  },
  {
   "cell_type": "code",
   "execution_count": 9,
   "id": "d19cdb1b-8c3d-48c1-a64d-18ea47afa127",
   "metadata": {},
   "outputs": [
    {
     "name": "stdout",
     "output_type": "stream",
     "text": [
      "2\n",
      "3\n"
     ]
    }
   ],
   "source": [
    "a=1\n",
    "\n",
    "def fun():\n",
    "    global a\n",
    "    a=2\n",
    "    print(a)\n",
    "    \n",
    "fun()\n",
    "a=3\n",
    "print(a)"
   ]
  },
  {
   "cell_type": "markdown",
   "id": "c30e62ea-38d5-4560-a149-0ac056a7b073",
   "metadata": {},
   "source": [
    "Спочатку виводиться значення a всередині функції після її виклику (яке дорівнює 2), а потім виводиться глобальна змінна a поза функцією (яке дорівнює 3)."
   ]
  },
  {
   "cell_type": "markdown",
   "id": "62028839-e7f2-4b2a-a425-c61709b2d64c",
   "metadata": {},
   "source": [
    "4.Який вивод наступного фрагмента?"
   ]
  },
  {
   "cell_type": "code",
   "execution_count": 10,
   "id": "3adce94e-ade0-4d98-a67a-74cc948e7bfc",
   "metadata": {},
   "outputs": [
    {
     "name": "stdout",
     "output_type": "stream",
     "text": [
      "2\n",
      "2\n"
     ]
    }
   ],
   "source": [
    "a=1\n",
    "\n",
    "def fun():\n",
    "    global a\n",
    "    a=2\n",
    "    print(a)\n",
    "    \n",
    "a=3\n",
    "fun()\n",
    "print(a)"
   ]
  },
  {
   "cell_type": "markdown",
   "id": "83e7409b-4bb4-4a1b-b454-aafa2b1dbe28",
   "metadata": {},
   "source": [
    "Спочатку глобальна змінна a встановлюється на значення 3, а потім функція fun змінює її на 2. Після виклику функції ви знову виводите глобальну змінну a, яка тепер дорівнює 2."
   ]
  },
  {
   "cell_type": "markdown",
   "id": "23493b74-7bff-4469-958c-0946bebf3766",
   "metadata": {},
   "source": [
    "## References"
   ]
  },
  {
   "cell_type": "markdown",
   "id": "741f4bfd-d743-4e0c-bd5c-29187dd8f89c",
   "metadata": {},
   "source": [
    "1.https://github.com/wtfpanda007/Python - посилання на GitHub-репозиторій"
   ]
  }
 ],
 "metadata": {
  "kernelspec": {
   "display_name": "Python 3 (ipykernel)",
   "language": "python",
   "name": "python3"
  },
  "language_info": {
   "codemirror_mode": {
    "name": "ipython",
    "version": 3
   },
   "file_extension": ".py",
   "mimetype": "text/x-python",
   "name": "python",
   "nbconvert_exporter": "python",
   "pygments_lexer": "ipython3",
   "version": "3.11.0"
  }
 },
 "nbformat": 4,
 "nbformat_minor": 5
}
