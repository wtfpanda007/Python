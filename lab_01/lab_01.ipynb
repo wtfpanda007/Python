{
 "cells": [
  {
   "cell_type": "markdown",
   "id": "a5370802",
   "metadata": {},
   "source": [
    "#### 13.11.23, &copy; Kudryavets Yehor KI-21-1, 2023"
   ]
  },
  {
   "cell_type": "markdown",
   "id": "9b9f45fd",
   "metadata": {},
   "source": [
    "# Лабораторна робота №1. Інсталяція та налаштування Python-середовища"
   ]
  },
  {
   "cell_type": "markdown",
   "id": "71fbb6c0",
   "metadata": {},
   "source": [
    "__Мета:__ quick start для роботи з python3 у середовищі IDE PyCharm системою контроля версій git."
   ]
  },
  {
   "cell_type": "markdown",
   "id": "ae1a360f",
   "metadata": {},
   "source": [
    "## Хід Роботи"
   ]
  },
  {
   "cell_type": "markdown",
   "id": "319ca3f4",
   "metadata": {},
   "source": [
    "1.Завантажити і встановити `Python`:"
   ]
  },
  {
   "cell_type": "markdown",
   "id": "27518f7d",
   "metadata": {},
   "source": [
    "![](img/1.png)"
   ]
  },
  {
   "cell_type": "markdown",
   "id": "a016a5e4",
   "metadata": {},
   "source": [
    "2.Завантажити, встановити і налаштувати `IDE PyCharm` у відповідності з інструкціями:"
   ]
  },
  {
   "cell_type": "markdown",
   "id": "0ef6f86e",
   "metadata": {},
   "source": [
    "![](img/2.png)"
   ]
  },
  {
   "cell_type": "markdown",
   "id": "74bf5fdf",
   "metadata": {},
   "source": [
    "![](img/3.png)"
   ]
  },
  {
   "cell_type": "markdown",
   "id": "1eefe0f6",
   "metadata": {},
   "source": [
    "3.Завантажити, встановити і налаштувати систему контроля версій Git на вашому робочому комп'ютері."
   ]
  },
  {
   "cell_type": "markdown",
   "id": "222d89c7",
   "metadata": {},
   "source": [
    "![](img/4.png)"
   ]
  },
  {
   "cell_type": "markdown",
   "id": "78777a70",
   "metadata": {},
   "source": [
    "4.Створити акаунт на `GitHub` та стоврити в ньому новий репозиторій:"
   ]
  },
  {
   "cell_type": "markdown",
   "id": "d301cfcb",
   "metadata": {},
   "source": [
    "![](img/5.png)"
   ]
  },
  {
   "cell_type": "markdown",
   "id": "ec51c88f",
   "metadata": {},
   "source": [
    "5.Налаштувати зв'язок PyCharm з Git:"
   ]
  },
  {
   "cell_type": "markdown",
   "id": "7fc44182",
   "metadata": {},
   "source": [
    "![](img/6.png)"
   ]
  },
  {
   "cell_type": "markdown",
   "id": "6f6ab59b",
   "metadata": {},
   "source": [
    "6.Налаштувати зв'язок PyCharm з віддаленим репозиторієм на GitHub."
   ]
  },
  {
   "cell_type": "markdown",
   "id": "0de59058",
   "metadata": {},
   "source": [
    "![](img/7.png)"
   ]
  },
  {
   "cell_type": "markdown",
   "id": "8e4164b8",
   "metadata": {},
   "source": [
    "7.Створити файл __lab_1_StudentLastName.py__ з кодом, який виводить фразу __\"Привіт, Ваше Прізвище\"__."
   ]
  },
  {
   "cell_type": "markdown",
   "id": "e73a75c7",
   "metadata": {},
   "source": [
    "![](img/8.png)"
   ]
  },
  {
   "cell_type": "markdown",
   "id": "1c0855ae",
   "metadata": {},
   "source": [
    "8.Закомітити файл у локальний репозиторій."
   ]
  },
  {
   "cell_type": "markdown",
   "id": "aee52d70",
   "metadata": {},
   "source": [
    "![](img/9.png)"
   ]
  },
  {
   "cell_type": "markdown",
   "id": "f7b5bae8",
   "metadata": {},
   "source": [
    "9.Відправити (\"запушити\") поточну версію Git-проєкта у віддалений репозиторій на GitHub."
   ]
  },
  {
   "attachments": {},
   "cell_type": "markdown",
   "id": "b10be45b",
   "metadata": {},
   "source": [
    "![](img/10.png)"
   ]
  },
  {
   "cell_type": "markdown",
   "id": "7d455c27",
   "metadata": {},
   "source": [
    "Перевірка:"
   ]
  },
  {
   "cell_type": "markdown",
   "id": "aa0e3df8",
   "metadata": {},
   "source": [
    "![](img/11.png)"
   ]
  },
  {
   "cell_type": "markdown",
   "id": "6f466284",
   "metadata": {},
   "source": [
    "## Контрольні запитання"
   ]
  },
  {
   "cell_type": "markdown",
   "id": "d41ee26a",
   "metadata": {},
   "source": [
    "1.У чому відмінність інтерпретатора від компілятора? Python - компілятор чи інтерпретатор?"
   ]
  },
  {
   "cell_type": "markdown",
   "id": "2d156a64",
   "metadata": {},
   "source": [
    "Основна відмінність між ними полягає в тому, як вони обробляють і виконують програмний код. \n",
    "Інтерпретатор виконує програмний код по одному рядку (або команді). Він читає програму, рядок за рядком, і виконує кожен рядок, перекладаючи його в машинний код. Компілятор перекладає весь програмний код у машинний код одноразово перед виконанням програми. В результаті компіляції створюється виконуваний файл, який містить машинний код, готовий до виконання.Python- це інтерпретована мова програмування."
   ]
  },
  {
   "cell_type": "markdown",
   "id": "cac5450f",
   "metadata": {},
   "source": [
    "2.Що таке IDE PyCharm?"
   ]
  },
  {
   "cell_type": "markdown",
   "id": "769c4340",
   "metadata": {},
   "source": [
    "PyCharm - це інтегроване середовище розробки (IDE) для мови програмування Python, яке розробляється компанією JetBrains. Воно призначене для полегшення роботи розробників Python і надає широкий набір інструментів та функцій для покращення продуктивності та ефективності розробки."
   ]
  },
  {
   "cell_type": "markdown",
   "id": "11699be8",
   "metadata": {},
   "source": [
    "3.Що таке система контроля версій (СКВ) і для чого вона призначена? У чому принципова відмінність СКВ SVN та GIT?"
   ]
  },
  {
   "cell_type": "markdown",
   "id": "dcda2bdb",
   "metadata": {},
   "source": [
    "Система контролю версій (СКВ або VCS, Version Control System) - це програмне забезпечення, яке використовується для відстеження та керування змінами в програмному коді та інших файлових ресурсах проекту. Головна мета СКВ - це забезпечити ефективну спільну роботу розробників над проектом, а також зберігати та відстежувати історію змін."
   ]
  },
  {
   "cell_type": "markdown",
   "id": "7ab2871d",
   "metadata": {},
   "source": [
    "Принципова відмінність між СКВ SVN (Subversion) та Git полягає в їхніх архітектурних підходах до зберігання та керування версіями.SVN є централізованою СКВ. У центральному репозиторії зберігається вся історія та версії проекту, і розробники співпрацюють із цим сервером. Вони відправляють та отримують зміни з центрального сервера.Git є розподіленою СКВ.Кожен розробник має свій локальний клон (копію) репозиторію, і вони можуть працювати над проектом навіть без підключення до центрального сервера. Git дозволяє розробникам комітувати та відправляти зміни власного коду локально."
   ]
  },
  {
   "cell_type": "markdown",
   "id": "77a01b02",
   "metadata": {},
   "source": [
    "4.Що відбувається при виконанні команди `git add .`?"
   ]
  },
  {
   "cell_type": "markdown",
   "id": "35eb8ea8",
   "metadata": {},
   "source": [
    "Команда `git add .` використовується для додавання всіх змінених та ненадісланих файлів з поточного робочого каталогу до індексу Git. Це підготовлює файли для коміту."
   ]
  },
  {
   "cell_type": "markdown",
   "id": "fc0ebd57",
   "metadata": {},
   "source": [
    "5.Що відбувається при виконанні команди `git commit`?"
   ]
  },
  {
   "cell_type": "markdown",
   "id": "bb01a27b",
   "metadata": {},
   "source": [
    "Команда `git commit` використовується для створення нового коміту в репозиторії Git. `git commit` дозволяє фіксувати зміни в історії репозиторію та створювати точки відновлення для проекту. Коміти є основними будівельними блоками у системі контролю версій Git і дозволяють відстежувати та керувати історією роботи над проектом."
   ]
  },
  {
   "cell_type": "markdown",
   "id": "74e95ba1",
   "metadata": {},
   "source": [
    "6.Якою Git-командою виконується розміщення локальної копії Git-репозиторію проєкта на віддаленому, що знаходиться на GitHub?"
   ]
  },
  {
   "cell_type": "markdown",
   "id": "78198b14",
   "metadata": {},
   "source": [
    "Команда `git push -u origin master` використовується для відправлення локального гілки master до віддаленого репозиторію з іменем origin."
   ]
  },
  {
   "cell_type": "markdown",
   "id": "edd457f9",
   "metadata": {},
   "source": [
    "## References"
   ]
  },
  {
   "cell_type": "markdown",
   "id": "76a25fde",
   "metadata": {},
   "source": [
    "1.https://github.com/wtfpanda007/lab1/tree/main/lab1 - посилання на GitHub-репозиторій"
   ]
  }
 ],
 "metadata": {
  "kernelspec": {
   "display_name": "Python 3 (ipykernel)",
   "language": "python",
   "name": "python3"
  },
  "language_info": {
   "codemirror_mode": {
    "name": "ipython",
    "version": 3
   },
   "file_extension": ".py",
   "mimetype": "text/x-python",
   "name": "python",
   "nbconvert_exporter": "python",
   "pygments_lexer": "ipython3",
   "version": "3.11.0"
  }
 },
 "nbformat": 4,
 "nbformat_minor": 5
}
