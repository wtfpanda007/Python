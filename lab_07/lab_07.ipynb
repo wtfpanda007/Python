{
 "cells": [
  {
   "cell_type": "markdown",
   "id": "3b88c29a-3646-4b98-a172-b842c38d6340",
   "metadata": {},
   "source": [
    "#### 14.11.23, &copy; Kudryavets Yehor KI-21-1, 2023"
   ]
  },
  {
   "cell_type": "markdown",
   "id": "c13f10c6-1702-4b21-b56b-74656a4ef13b",
   "metadata": {},
   "source": [
    "# Лабораторна робота №7. Словники, кортежі. Обробка винятків (empty)"
   ]
  },
  {
   "cell_type": "markdown",
   "id": "199ea996-02e0-4393-a56f-89dc510e183f",
   "metadata": {},
   "source": [
    "__Мета:__ навчитися працювати зі структурами даних Кортеж та Словник. Навчитись обробляти основні типи винятків"
   ]
  },
  {
   "cell_type": "markdown",
   "id": "aeb84ff5-7c4b-47e8-b9d9-4de281359e0a",
   "metadata": {},
   "source": [
    "# Хід роботи"
   ]
  },
  {
   "cell_type": "markdown",
   "id": "976b8fb5-db7a-41f5-ab6c-b756de4ae86c",
   "metadata": {},
   "source": [
    "1.Напишіть програму, яка створює кортеж зі списку чисел, а потім виводить на екран всі числа, які менші за задане число n. Умова: користувач вводить число n, і щоб створити новий список result, який містить всі числа з кортежу, які менші за n, реалізувати за допомогою генератора списків."
   ]
  },
  {
   "cell_type": "code",
   "execution_count": 1,
   "id": "d80d7b55-6b35-4960-bcb5-2addf4af5a31",
   "metadata": {},
   "outputs": [
    {
     "name": "stdin",
     "output_type": "stream",
     "text": [
      "Введіть числа через пробіл:  1 2 3 4 5 6 7 8\n",
      "Введіть число n:  5\n"
     ]
    },
    {
     "name": "stdout",
     "output_type": "stream",
     "text": [
      "Всі числа менші за 5 в кортежі: (1, 2, 3, 4)\n"
     ]
    }
   ],
   "source": [
    "numbers = input(\"Введіть числа через пробіл: \").split()\n",
    "numbers = tuple(map(int, numbers))\n",
    "\n",
    "n = int(input(\"Введіть число n: \"))\n",
    "\n",
    "result = tuple(x for x in numbers if x < n)\n",
    "\n",
    "print(\"Всі числа менші за\", n, \"в кортежі:\", result)"
   ]
  },
  {
   "cell_type": "markdown",
   "id": "b4a25665-7f3f-4926-b1bc-be79aa3e6d5a",
   "metadata": {},
   "source": [
    "2.Напишіть програму, яка створює кортеж з трьох елементів, які є рядками, та з’єднує їх в один рядок з комою як роздільником. Примітка: з’єднати рядки також можна за допомогою методу .joint()"
   ]
  },
  {
   "cell_type": "code",
   "execution_count": 2,
   "id": "e6247d5a-a5cb-4567-b33b-f6d42af6f00c",
   "metadata": {},
   "outputs": [
    {
     "name": "stdout",
     "output_type": "stream",
     "text": [
      "З'єднані рядки: Перший, Другий, Третій\n"
     ]
    }
   ],
   "source": [
    "tuple_of_strings = (\"Перший\", \"Другий\", \"Третій\")\n",
    "\n",
    "result_string = ', '.join(tuple_of_strings)\n",
    "\n",
    "print(\"З'єднані рядки:\", result_string)"
   ]
  },
  {
   "cell_type": "markdown",
   "id": "1cc4d457-3aec-4d11-adb9-fd6e4335f064",
   "metadata": {},
   "source": [
    "3.Створіть словник, який містить інформацію про книги в бібліотеці. Ключами будуть назви книг, а значеннями - автори, рік видання та кількість сторінок. Виведіть на екран інформацію про книгу, введену користувачем."
   ]
  },
  {
   "cell_type": "code",
   "execution_count": 4,
   "id": "516c83d9-1532-45be-bfca-38d186f77aa9",
   "metadata": {},
   "outputs": [
    {
     "name": "stdin",
     "output_type": "stream",
     "text": [
      "Введіть назву книги:  Володар перснів\n"
     ]
    },
    {
     "name": "stdout",
     "output_type": "stream",
     "text": [
      "\n",
      "Інформація про книгу 'Володар перснів':\n",
      "Автор: Дж. Толкіна\n",
      "Рік видання: 1954.1955\n",
      "Кількість сторінок: 1984\n"
     ]
    }
   ],
   "source": [
    "library = {\n",
    "    \"Маленький принц\": {\"Автор\": \"Антуан де Сент-Екзюпері\", \"Рік видання\": 1943, \"Кількість сторінок\": 132},\n",
    "    \"1984\": {\"Автор\": \"Джордж Орвелл\", \"Рік видання\": 1949, \"Кількість сторінок\": 312},\n",
    "    \"Володар перснів\": {\"Автор\": \"Дж. Толкіна\", \"Рік видання\": 1954.1955, \"Кількість сторінок\": 1984}\n",
    "}\n",
    "\n",
    "user_input = input(\"Введіть назву книги: \")\n",
    "\n",
    "if user_input in library:\n",
    "    book_info = library[user_input]\n",
    "    print(f\"\\nІнформація про книгу '{user_input}':\")\n",
    "    print(\"Автор:\", book_info[\"Автор\"])\n",
    "    print(\"Рік видання:\", book_info[\"Рік видання\"])\n",
    "    print(\"Кількість сторінок:\", book_info[\"Кількість сторінок\"])\n",
    "else:\n",
    "    print(f\"\\nКнига '{user_input}' не знайдена в бібліотеці всесвітніх книг.\")"
   ]
  },
  {
   "cell_type": "markdown",
   "id": "3c2c921f-190c-4679-a250-3783a52ebfd7",
   "metadata": {},
   "source": [
    "4.Напишіть програму, яка створює словник, що містить інформацію про студентів, використовуючи вказані кортежі в якості значень. Кожен ключ – це прізвище студента. Виведіть на екран інформацію про студента, введеного користувачем."
   ]
  },
  {
   "cell_type": "code",
   "execution_count": 5,
   "id": "00585472-4f0e-4322-839c-96f0cf09a7cc",
   "metadata": {},
   "outputs": [
    {
     "name": "stdin",
     "output_type": "stream",
     "text": [
      "Введіть прізвище студента:  Соколов\n"
     ]
    },
    {
     "name": "stdout",
     "output_type": "stream",
     "text": [
      "\n",
      "Інформація про студента Соколов:\n",
      "Ім'я: Ярослав\n",
      "Вік: 20\n",
      "Спеціальність: Математика\n"
     ]
    }
   ],
   "source": [
    "students_dict = {\n",
    "    \"Соколов\": (\"Ярослав\", 20, \"Математика\"),\n",
    "    \"Піддубний\": (\"Матвій\", 22, \"Біологія\"),\n",
    "    \"Осташевський\": (\"Євгеній\", 21, \"Історія\")\n",
    "}\n",
    "\n",
    "user_input = input(\"Введіть прізвище студента: \")\n",
    "\n",
    "if user_input in students_dict:\n",
    "    student_info = students_dict[user_input]\n",
    "    print(f\"\\nІнформація про студента {user_input}:\")\n",
    "    print(\"Ім'я:\", student_info[0])\n",
    "    print(\"Вік:\", student_info[1])\n",
    "    print(\"Спеціальність:\", student_info[2])\n",
    "else:\n",
    "    print(f\"\\nСтудента з прізвищем '{user_input}' не знайдено в базі даних.\")"
   ]
  },
  {
   "cell_type": "markdown",
   "id": "a3174b7b-579c-4feb-86c9-d461942d9eaf",
   "metadata": {},
   "source": [
    "5.Створіть словник, який містить інформацію про більше, ніж один номер телефону для кожного з контактів в телефонній книзі. Ключами будуть імена контактів, а значеннями - список їхніх номерів телефонів. Напишіть функцію, яка дозволяє додати новий номер телефону до списку номерів телефону певного контакту. Потім виведіть на екран список номерів телефонів для всіх контактів."
   ]
  },
  {
   "cell_type": "code",
   "execution_count": 6,
   "id": "11f9a408-fe98-46a0-b345-34cc4c64779f",
   "metadata": {},
   "outputs": [
    {
     "name": "stdout",
     "output_type": "stream",
     "text": [
      "Новий номер телефону 555-55-55 додано для контакту Соколов.\n",
      "\n",
      "Список номерів телефонів у телефонній книзі:\n",
      "Соколов: 123-45-67, 987-65-43, 555-55-55\n",
      "Піддубний: 456-78-90, 654-32-10\n",
      "Осташевський: 111-22-33\n"
     ]
    }
   ],
   "source": [
    "phone_book = {\n",
    "    \"Соколов\": [\"123-45-67\", \"987-65-43\"],\n",
    "    \"Піддубний\": [\"456-78-90\", \"654-32-10\"],\n",
    "    \"Осташевський\": [\"111-22-33\"]\n",
    "}\n",
    "\n",
    "def add_phone_number(contact, new_number):\n",
    "    if contact in phone_book:\n",
    "        phone_book[contact].append(new_number)\n",
    "        print(f\"Новий номер телефону {new_number} додано для контакту {contact}.\")\n",
    "    else:\n",
    "        print(f\"Контакт {contact} не знайдено в телефонній книзі.\")\n",
    "\n",
    "add_phone_number(\"Соколов\", \"555-55-55\")\n",
    "\n",
    "print(\"\\nСписок номерів телефонів у телефонній книзі:\")\n",
    "for contact, phone_numbers in phone_book.items():\n",
    "    print(f\"{contact}: {', '.join(phone_numbers)}\")"
   ]
  },
  {
   "cell_type": "markdown",
   "id": "9ad06c61-917d-446f-b243-91715b81f06e",
   "metadata": {},
   "source": [
    "## Контрольні запитання"
   ]
  },
  {
   "cell_type": "markdown",
   "id": "92c9e87d-4201-4946-b0bf-b95b8911db56",
   "metadata": {},
   "source": [
    "1.Що виведе наступний код?"
   ]
  },
  {
   "cell_type": "code",
   "execution_count": 7,
   "id": "36e7c157-3403-4813-9c59-8e42869fb14c",
   "metadata": {},
   "outputs": [
    {
     "name": "stdout",
     "output_type": "stream",
     "text": [
      "(2, 3)\n"
     ]
    }
   ],
   "source": [
    "my_tuple = (1, 2, 3)\n",
    "print(my_tuple[1:])"
   ]
  },
  {
   "cell_type": "markdown",
   "id": "5c3c088f-d422-4192-ad5c-06185b2a6c08",
   "metadata": {},
   "source": [
    "2.Що виведе наступний код?"
   ]
  },
  {
   "cell_type": "code",
   "execution_count": 8,
   "id": "ca4f431b-431e-4030-8043-0cadf5ef902c",
   "metadata": {},
   "outputs": [
    {
     "name": "stdout",
     "output_type": "stream",
     "text": [
      "4\n"
     ]
    }
   ],
   "source": [
    "my_dict = {'a': 1, 'b': 2, 'c': 3}\n",
    "print(my_dict.get('d', 4))"
   ]
  },
  {
   "cell_type": "markdown",
   "id": "0ccf6a76-0835-4d64-9693-a0dc96a2a79e",
   "metadata": {},
   "source": [
    "3.Що виведе наступний код?"
   ]
  },
  {
   "cell_type": "code",
   "execution_count": 9,
   "id": "622dbdef-677c-41ba-848c-0c24677f8faf",
   "metadata": {},
   "outputs": [
    {
     "ename": "TypeError",
     "evalue": "'tuple' object does not support item assignment",
     "output_type": "error",
     "traceback": [
      "\u001b[1;31m---------------------------------------------------------------------------\u001b[0m",
      "\u001b[1;31mTypeError\u001b[0m                                 Traceback (most recent call last)",
      "Cell \u001b[1;32mIn[9], line 2\u001b[0m\n\u001b[0;32m      1\u001b[0m my_tuple \u001b[38;5;241m=\u001b[39m (\u001b[38;5;241m1\u001b[39m, \u001b[38;5;241m2\u001b[39m, \u001b[38;5;241m3\u001b[39m)\n\u001b[1;32m----> 2\u001b[0m \u001b[43mmy_tuple\u001b[49m\u001b[43m[\u001b[49m\u001b[38;5;241;43m0\u001b[39;49m\u001b[43m]\u001b[49m \u001b[38;5;241m=\u001b[39m \u001b[38;5;241m4\u001b[39m\n\u001b[0;32m      3\u001b[0m \u001b[38;5;28mprint\u001b[39m(my_tuple)\n",
      "\u001b[1;31mTypeError\u001b[0m: 'tuple' object does not support item assignment"
     ]
    }
   ],
   "source": [
    "my_tuple = (1, 2, 3)\n",
    "my_tuple[0] = 4\n",
    "print(my_tuple)"
   ]
  },
  {
   "cell_type": "markdown",
   "id": "28dd2bf0-e6eb-4452-9a83-64dcf81cae9f",
   "metadata": {},
   "source": [
    "Кортежі є незмінними об'єктами в Python, тобто їхні елементи не можна змінювати після їх створення. При виконанні цього коду буде помилка."
   ]
  },
  {
   "cell_type": "markdown",
   "id": "bb387fd3-558e-44a9-a4ee-9ba57a7de03f",
   "metadata": {},
   "source": [
    "4.Що виведе наступний код?"
   ]
  },
  {
   "cell_type": "code",
   "execution_count": 10,
   "id": "6f9298a4-8279-40b5-8244-09e0df3e167e",
   "metadata": {},
   "outputs": [
    {
     "name": "stdout",
     "output_type": "stream",
     "text": [
      "{'a': 1, 'b': 2, 'c': 3, 'd': 4}\n"
     ]
    }
   ],
   "source": [
    "my_dict = {'a': 1, 'b': 2, 'c': 3}\n",
    "my_dict.update({'d': 4})\n",
    "print(my_dict)"
   ]
  },
  {
   "cell_type": "markdown",
   "id": "3b6791ef-bb06-47e4-960e-cfcd0d7dcb57",
   "metadata": {},
   "source": [
    "## References"
   ]
  },
  {
   "cell_type": "markdown",
   "id": "d186327a-2854-4437-a4ac-ef785544990a",
   "metadata": {},
   "source": [
    "1.https://github.com/wtfpanda007/Python - посилання на GitHub-репозиторій"
   ]
  }
 ],
 "metadata": {
  "kernelspec": {
   "display_name": "Python 3 (ipykernel)",
   "language": "python",
   "name": "python3"
  },
  "language_info": {
   "codemirror_mode": {
    "name": "ipython",
    "version": 3
   },
   "file_extension": ".py",
   "mimetype": "text/x-python",
   "name": "python",
   "nbconvert_exporter": "python",
   "pygments_lexer": "ipython3",
   "version": "3.11.0"
  }
 },
 "nbformat": 4,
 "nbformat_minor": 5
}
