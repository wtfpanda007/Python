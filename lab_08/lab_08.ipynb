{
 "cells": [
  {
   "cell_type": "markdown",
   "id": "f97f8f39-ee79-403a-9302-8f421a767ef6",
   "metadata": {},
   "source": [
    "#### 16.11.23, &copy; Kudryavets Yehor KI-21-1, 2023"
   ]
  },
  {
   "cell_type": "markdown",
   "id": "4858dd58-cf6c-4b23-8761-143beb22bbf6",
   "metadata": {},
   "source": [
    "# Лабораторна робота №8. Модулі, пакети та `pip`"
   ]
  },
  {
   "cell_type": "markdown",
   "id": "1fe58e02-6918-4b52-aea5-150a8c7b5532",
   "metadata": {},
   "source": [
    "__Мета:__ навчитися імпортувати, користуватися, створювати модулі та пакети. Навчитися користуватися “сирною крамницею” `PyPi` та менеджером пакетів `pip`"
   ]
  },
  {
   "cell_type": "markdown",
   "id": "60d1037f-b783-4355-b704-ce6c772ca8a6",
   "metadata": {},
   "source": [
    "# Хід роботи"
   ]
  },
  {
   "cell_type": "markdown",
   "id": "3b186250-4948-4994-a3ad-ff2332115188",
   "metadata": {},
   "source": [
    "1.Створити модуль `module.py` та файл `main.py`, структура яких описана у лекції 9, повторишви кроки 1-10."
   ]
  },
  {
   "cell_type": "markdown",
   "id": "128e7ba6-9db7-4df2-8cab-59273f6af250",
   "metadata": {},
   "source": [
    "- Файл `module.py`"
   ]
  },
  {
   "cell_type": "code",
   "execution_count": 2,
   "id": "87d4f3e8-c964-4685-8016-67a8dd19008a",
   "metadata": {},
   "outputs": [
    {
     "name": "stdout",
     "output_type": "stream",
     "text": [
      "I prefer to be a module, but I can do some tests for you.\n",
      "True\n",
      "True\n"
     ]
    }
   ],
   "source": [
    "__counter = 0\n",
    "def suml(the_list):\n",
    "    global __counter\n",
    "    __counter += 1\n",
    "    the_sum = 0\n",
    "    for element in the_list:\n",
    "        the_sum += element\n",
    "    return the_sum\n",
    "def prodl(the_list):\n",
    "    global __counter\n",
    "    __counter += 1\n",
    "    prod = 1\n",
    "    for element in the_list:\n",
    "        prod *= element\n",
    "    return prod\n",
    "\n",
    "if __name__ == \"__main__\":\n",
    "    print(\"I prefer to be a module, but I can do some tests for you.\")\n",
    "    my_list = [i+1 for i in range(5)]\n",
    "    print(suml(my_list) == 15)\n",
    "    print(prodl(my_list) == 120)"
   ]
  },
  {
   "cell_type": "markdown",
   "id": "20c29c8d-924f-480d-b148-b2abad768a3c",
   "metadata": {},
   "source": [
    "- Файл `main.py`"
   ]
  },
  {
   "cell_type": "code",
   "execution_count": 3,
   "id": "f1d9ae41-0ba4-4816-8574-505e04eacd37",
   "metadata": {},
   "outputs": [
    {
     "name": "stdout",
     "output_type": "stream",
     "text": [
      "0\n",
      "1\n"
     ]
    }
   ],
   "source": [
    "from module import suml, prodl\n",
    "\n",
    "zeroes = [0 for i in range(5)]\n",
    "ones = [1 for i in range(5)]\n",
    "print(suml(zeroes))\n",
    "print(prodl(ones))"
   ]
  },
  {
   "cell_type": "markdown",
   "id": "4f94ed1a-c189-4f4e-9a4f-b29313b330c7",
   "metadata": {},
   "source": [
    "2.Створити пакет `extra`, структура яких описана у лекції 9, повторишви кроки 1-7:"
   ]
  },
  {
   "cell_type": "markdown",
   "id": "6998f35d-1120-4b70-9bf3-742958f44d07",
   "metadata": {},
   "source": [
    "- Файл `main2.py`"
   ]
  },
  {
   "cell_type": "code",
   "execution_count": 12,
   "id": "c1da5fe3-c439-44c6-8faa-410e15787035",
   "metadata": {},
   "outputs": [
    {
     "name": "stdout",
     "output_type": "stream",
     "text": [
      "Sigma\n",
      "Alpha\n",
      "Iota\n",
      "Beta\n"
     ]
    }
   ],
   "source": [
    "from sys import path\n",
    "path.append('packages\\\\extrapack.zip')\n",
    "import extra.good.best.sigma as sig\n",
    "import extra.good.alpha as alp\n",
    "from extra.iota import FunI\n",
    "from extra.good.beta import FunB\n",
    "print(sig.FunS())\n",
    "print(alp.FunA())\n",
    "print(FunI())\n",
    "print(FunB())"
   ]
  },
  {
   "cell_type": "markdown",
   "id": "a48b4b4a-ff7a-4319-96d0-950a8ee70f00",
   "metadata": {},
   "source": [
    "3.За допомогою менеджера пакетів `pip`:"
   ]
  },
  {
   "cell_type": "markdown",
   "id": "a8f8e85d-0311-4da9-bcf9-e28845da1b7f",
   "metadata": {},
   "source": [
    "- вивести перелік встановлених на Вашому комп’ютері пакетів"
   ]
  },
  {
   "cell_type": "markdown",
   "id": "e579fd64-5849-4306-8295-765eb8605af1",
   "metadata": {},
   "source": [
    "![](img/1.jpg)"
   ]
  },
  {
   "cell_type": "markdown",
   "id": "a60abf3c-7206-495a-a3b3-1bfbe83c9e86",
   "metadata": {},
   "source": [
    "- знайти і встановити пакет `pygame`"
   ]
  },
  {
   "cell_type": "markdown",
   "id": "a35ed897-5bc9-4bcc-b6e7-2325ca7d5dec",
   "metadata": {},
   "source": [
    "![](img/2.jpg)"
   ]
  },
  {
   "cell_type": "markdown",
   "id": "c1d9ba1e-5537-4862-aaa3-a2734517398f",
   "metadata": {},
   "source": [
    "- вивести інформацію про `pygame`"
   ]
  },
  {
   "cell_type": "markdown",
   "id": "ea95fa30-b365-40a3-acf1-6fef8e658b1a",
   "metadata": {},
   "source": [
    "![](img/3.jpg)"
   ]
  },
  {
   "cell_type": "markdown",
   "id": "ea740771-8495-416c-842e-17303377e1d1",
   "metadata": {},
   "source": [
    "- запустити код, наведений нижче"
   ]
  },
  {
   "cell_type": "code",
   "execution_count": 1,
   "id": "191f93fe-8bf3-43ac-98d2-e71ff847e65d",
   "metadata": {},
   "outputs": [
    {
     "name": "stdout",
     "output_type": "stream",
     "text": [
      "pygame 2.5.2 (SDL 2.28.3, Python 3.9.13)\n",
      "Hello from the pygame community. https://www.pygame.org/contribute.html\n"
     ]
    }
   ],
   "source": [
    "import pygame\n",
    "\n",
    "run = True\n",
    "width = 400\n",
    "height = 100\n",
    "pygame.init()\n",
    "screen = pygame.display.set_mode((width, height))\n",
    "font = pygame.font.SysFont(None, 48)\n",
    "text = font.render(\"Welcome to pygame\", True, (255, 255, 255))\n",
    "screen.blit(text, ((width - text.get_width()) // 2, (height - text.get_height()) // 2))\n",
    "pygame.display.flip()\n",
    "while run:\n",
    "    for event in pygame.event.get():\n",
    "        if event.type == pygame.QUIT\\\n",
    "        or event.type == pygame.MOUSEBUTTONUP\\\n",
    "        or event.type == pygame.KEYUP:\n",
    "            run = False"
   ]
  },
  {
   "cell_type": "markdown",
   "id": "080a2ad3-704a-4c3b-b9c2-6dfca1cd6811",
   "metadata": {},
   "source": [
    "![](img/4.jpg)"
   ]
  },
  {
   "cell_type": "markdown",
   "id": "afabe4a0-04b7-419d-9c0f-0037efbef70a",
   "metadata": {},
   "source": [
    "- деінсталювати пакет `pygame`"
   ]
  },
  {
   "cell_type": "markdown",
   "id": "76d27054-74e5-42d0-9ecf-a491ad9b5f22",
   "metadata": {},
   "source": [
    "![](img/5.jpg)"
   ]
  },
  {
   "cell_type": "markdown",
   "id": "d4050117-0178-424a-8e00-32ebf7c9e7b8",
   "metadata": {},
   "source": [
    "##  Контрольні запитання"
   ]
  },
  {
   "cell_type": "markdown",
   "id": "4256bb70-a911-4789-8c29-a12b892ee3da",
   "metadata": {},
   "source": [
    "1.Ви хочете заборонити користувачеві модуля запускати ваш код як звичайний скрипт. Як досягти такого ефекту? Написати код."
   ]
  },
  {
   "cell_type": "code",
   "execution_count": 1,
   "id": "46424aa3-2fab-4794-bc9d-acbaa9209a97",
   "metadata": {},
   "outputs": [
    {
     "name": "stdout",
     "output_type": "stream",
     "text": [
      "Ви запускаєте цей код як основний скрипт.\n",
      "Цей код виконається тільки, якщо він викликається напряму, а не імпортується.\n"
     ]
    }
   ],
   "source": [
    "def mod():\n",
    "    print(\"Ця функція доступна лише для імпорту.\")\n",
    "\n",
    "if __name__ == \"__main__\":\n",
    "    print(\"Ви запускаєте цей код як основний скрипт.\")\n",
    "    print(\"Цей код виконається тільки, якщо він викликається напряму, а не імпортується.\")"
   ]
  },
  {
   "cell_type": "markdown",
   "id": "433a594a-db70-4826-8bed-39a77a4f272a",
   "metadata": {},
   "source": [
    "Якщо треба заборонити користувачеві використовувати модуль як звичайний скрипт і викликати його функції тільки через імпорт, то можна використовувати змінну __name__. Якщо модуль використовується як основний скрипт (викликається напряму, а не імпортується), то __name__ матиме значення '__main__'. В іншому випадку, коли модуль імпортується, __name__ матиме інше значення."
   ]
  },
  {
   "cell_type": "markdown",
   "id": "ae2d42eb-c6c1-462e-b748-ea7eaeed5a0f",
   "metadata": {},
   "source": [
    "2.Деякі додаткові та необхідні пакети зберігаються в каталозі D:. Напишіть код, який забезпечує перегляд каталогу Python для пошуку всіх модулів. Написати код."
   ]
  },
  {
   "cell_type": "code",
   "execution_count": 3,
   "id": "b3db87b5-56e1-4942-ab2e-d834385570a1",
   "metadata": {},
   "outputs": [
    {
     "name": "stdout",
     "output_type": "stream",
     "text": [
      "Знайдені Python-модулі:\n"
     ]
    }
   ],
   "source": [
    "import os\n",
    "\n",
    "def find_python_modules(directory):\n",
    "    python_modules = []\n",
    "\n",
    "    # Перегляд усіх файлів у заданому каталозі\n",
    "    for root, dirs, files in os.walk(directory):\n",
    "        for file in files:\n",
    "            # Перевірка, чи файл має розширення \".py\"\n",
    "            if file.endswith(\".py\"):\n",
    "                # Отримання повного шляху до модуля\n",
    "                module_path = os.path.join(root, file)\n",
    "                python_modules.append(module_path)\n",
    "\n",
    "    return python_modules\n",
    "\n",
    "# Шлях до каталогу \"D:\"\n",
    "directory_path = r\"D:\\\\\"\n",
    "\n",
    "# Пошук Python-модулів у каталозі \"D:\"\n",
    "python_modules = find_python_modules(directory_path)\n",
    "\n",
    "# Виведення знайдених модулів\n",
    "print(\"Знайдені Python-модулі:\")\n",
    "for module in python_modules:\n",
    "    print(module)"
   ]
  },
  {
   "cell_type": "markdown",
   "id": "f343bb57-64f5-408b-9d4e-2bb57817b185",
   "metadata": {},
   "source": [
    "3.Каталог, згаданий у попередній вправі, містить піддерево наступної структури:"
   ]
  },
  {
   "cell_type": "markdown",
   "id": "79f3663f-21cb-4f00-a2df-5c03cb0aa718",
   "metadata": {},
   "source": [
    "![](img/1.png)"
   ]
  },
  {
   "cell_type": "markdown",
   "id": "44701870-0f8f-4f9c-93a3-deb47f7c0e81",
   "metadata": {},
   "source": [
    "Припускаючи, що `D:\\Python\\Project\\Modules` був успішно доданий до списку `sys.path`, напишіть директиву імпорту, що дозволяє використовувати всі сутності з `mymodule`."
   ]
  },
  {
   "cell_type": "markdown",
   "id": "1827204f-51a2-47f1-a8fb-060b6af60c07",
   "metadata": {},
   "source": [
    "Директива імпорту може виглядати так:"
   ]
  },
  {
   "cell_type": "code",
   "execution_count": 8,
   "id": "7b4a51f8-74ad-4e8d-aaaf-e2fa8fcbb653",
   "metadata": {},
   "outputs": [
    {
     "ename": "SyntaxError",
     "evalue": "invalid syntax (4002955061.py, line 1)",
     "output_type": "error",
     "traceback": [
      "\u001b[1;36m  Cell \u001b[1;32mIn[8], line 1\u001b[1;36m\u001b[0m\n\u001b[1;33m    from abc.def import mymodule\u001b[0m\n\u001b[1;37m             ^\u001b[0m\n\u001b[1;31mSyntaxError\u001b[0m\u001b[1;31m:\u001b[0m invalid syntax\n"
     ]
    }
   ],
   "source": [
    "from abc.def import mymodule"
   ]
  },
  {
   "cell_type": "markdown",
   "id": "0da53333-aa6f-45fa-9613-a866308a004a",
   "metadata": {},
   "source": [
    "Якщо каталог `D:\\Python\\Project\\Modules` був доданий до списку `sys.path`, і файл `mymodule.py` знаходиться в піддереві `abc/def`, то можна використовувати директиву імпорту для імпортування сутностей з `mymodule.py`."
   ]
  },
  {
   "cell_type": "markdown",
   "id": "07b17737-880a-4930-a932-65909b885176",
   "metadata": {},
   "source": [
    "## References"
   ]
  },
  {
   "cell_type": "markdown",
   "id": "4b1f6888-b053-49c5-9b17-f133c01e7cd8",
   "metadata": {},
   "source": [
    "1.https://github.com/wtfpanda007/Python - посилання на GitHub-репозиторій"
   ]
  }
 ],
 "metadata": {
  "kernelspec": {
   "display_name": "Python 3 (ipykernel)",
   "language": "python",
   "name": "python3"
  },
  "language_info": {
   "codemirror_mode": {
    "name": "ipython",
    "version": 3
   },
   "file_extension": ".py",
   "mimetype": "text/x-python",
   "name": "python",
   "nbconvert_exporter": "python",
   "pygments_lexer": "ipython3",
   "version": "3.9.13"
  }
 },
 "nbformat": 4,
 "nbformat_minor": 5
}
