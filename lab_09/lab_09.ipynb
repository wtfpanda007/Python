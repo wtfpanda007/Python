{
 "cells": [
  {
   "cell_type": "markdown",
   "id": "b738385a-6e7f-41a0-8405-b10df502eea6",
   "metadata": {},
   "source": [
    "#### 19.11.23, &copy; Kudryavets Yehor KI-21-1, 2023"
   ]
  },
  {
   "cell_type": "markdown",
   "id": "137110cd-482b-4f52-92fc-8f14b9d17fe8",
   "metadata": {},
   "source": [
    "# Лабораторна робота №9. Рядки. Методи рядків і списків. Частина І"
   ]
  },
  {
   "cell_type": "markdown",
   "id": "59392dc1-8887-4dfe-9996-8e2f1e573093",
   "metadata": {},
   "source": [
    "__Мета:__ навчитися обробляти рядки за допомогою спеціальних функцій і методів."
   ]
  },
  {
   "cell_type": "markdown",
   "id": "16b0c225-51f6-4fd2-9270-78687fabce1d",
   "metadata": {},
   "source": [
    "# Хід роботи"
   ]
  },
  {
   "cell_type": "markdown",
   "id": "8bd9ce9f-180d-4f50-9f78-2147976eeb32",
   "metadata": {},
   "source": [
    "1.Написати власну функцію, яка працює практично так само, як оригінальний метод split()"
   ]
  },
  {
   "cell_type": "code",
   "execution_count": 4,
   "id": "bbea3274-3024-45fe-94e0-ae102cbbf289",
   "metadata": {},
   "outputs": [
    {
     "name": "stdout",
     "output_type": "stream",
     "text": [
      "['Це', 'приклад', 'користувацької', 'функції', 'split']\n"
     ]
    }
   ],
   "source": [
    "def custom_split(input_string, separator=' '):\n",
    "    result_list = []\n",
    "    current_word = ''\n",
    "\n",
    "    for char in input_string:\n",
    "        if char != separator:\n",
    "            current_word += char\n",
    "        else:\n",
    "            if current_word:\n",
    "                result_list.append(current_word)\n",
    "                current_word = ''\n",
    "\n",
    "    if current_word:\n",
    "        result_list.append(current_word)\n",
    "\n",
    "    return result_list\n",
    "\n",
    "input_string = \"Це приклад користувацької функції split\"\n",
    "result = custom_split(input_string)\n",
    "print(result)"
   ]
  },
  {
   "cell_type": "markdown",
   "id": "5691b523-bc2e-46cb-b26d-b96ada324065",
   "metadata": {},
   "source": [
    "2.Написати програму, яка здатна імітувати роботу пристрою з семисегментним дисплеєм, хоча краще все ж таки використовувати окремі світлодіоди замість сегментів."
   ]
  },
  {
   "cell_type": "code",
   "execution_count": 3,
   "id": "0d76e556-d956-44a7-9cee-09b48480a38f",
   "metadata": {},
   "outputs": [
    {
     "name": "stdin",
     "output_type": "stream",
     "text": [
      "Введіть число:  1234567890\n"
     ]
    },
    {
     "name": "stdout",
     "output_type": "stream",
     "text": [
      "  #  ###  ###  # #  ###  ###  ###  ###  ###  ###  \n",
      " ##    #    #  # #  #    #      #  # #  # #  # #  \n",
      "  #  ###  ###  ###  ###  ###    #  ###  ###  # #  \n",
      "  #  #      #    #    #  # #    #  # #    #  # #  \n",
      "###  ###  ###    #  ###  ###    #  ###  ###  ###  \n"
     ]
    }
   ],
   "source": [
    "segments = {\n",
    "    '0': ['###', '# #', '# #', '# #', '###'],\n",
    "    '1': ['  #', ' ##', '  #', '  #', '###'],\n",
    "    '2': ['###', '  #', '###', '#  ', '###'],\n",
    "    '3': ['###', '  #', '###', '  #', '###'],\n",
    "    '4': ['# #', '# #', '###', '  #', '  #'],\n",
    "    '5': ['###', '#  ', '###', '  #', '###'],\n",
    "    '6': ['###', '#  ', '###', '# #', '###'],\n",
    "    '7': ['###', '  #', '  #', '  #', '  #'],\n",
    "    '8': ['###', '# #', '###', '# #', '###'],\n",
    "    '9': ['###', '# #', '###', '  #', '###'],\n",
    "    ' ': ['   ', '   ', '   ', '   ', '   ']\n",
    "}\n",
    "\n",
    "def display_number(number):\n",
    "    num_str = str(number)\n",
    "    \n",
    "    for i in range(5):\n",
    "        for digit in num_str:\n",
    "            print(segments[digit][i], end='  ')\n",
    "        print()\n",
    "\n",
    "user_input = input(\"Введіть число: \")\n",
    "\n",
    "display_number(user_input)"
   ]
  },
  {
   "cell_type": "markdown",
   "id": "e012dbb4-f2dc-4242-b527-2a0076f25291",
   "metadata": {},
   "source": [
    "3.Напишіть програму для шифрування повідомлення, використовуючи такі припущення: вона приймає лише латинські літери (примітка: римляни не використовували пробіли, ні цифри); всі літери повідомлення знаходяться у верхньому регістрі (примітка: римляни знали лише великі літери)."
   ]
  },
  {
   "cell_type": "code",
   "execution_count": 5,
   "id": "bba05016-6006-41c7-90c1-7014a798ab2b",
   "metadata": {},
   "outputs": [
    {
     "name": "stdin",
     "output_type": "stream",
     "text": [
      "Введіть повідомлення для шифрування:  WINNER\n"
     ]
    },
    {
     "name": "stdout",
     "output_type": "stream",
     "text": [
      "Зашифроване повідомлення: XJOOFS\n"
     ]
    }
   ],
   "source": [
    "def encrypt_caesar(message):\n",
    "    \n",
    "    encrypted_message = ''\n",
    "    for char in message:\n",
    "        if char.isalpha():\n",
    "            char = char.upper()\n",
    "            code = (ord(char) - ord('A') + 1) % 26 + ord('A')\n",
    "            encrypted_message += chr(code)\n",
    "        else:\n",
    "            encrypted_message += char\n",
    "    return encrypted_message\n",
    "\n",
    "user_message = input(\"Введіть повідомлення для шифрування: \")\n",
    "\n",
    "encrypted_result = encrypt_caesar(user_message)\n",
    "print(\"Зашифроване повідомлення:\", encrypted_result)"
   ]
  },
  {
   "cell_type": "markdown",
   "id": "3c2e3b19-6bf4-4a5c-b828-45f3a2164e98",
   "metadata": {},
   "source": [
    "4.Напишить програму для дешифрування повідомлення, зашифрованого шифром Цезара."
   ]
  },
  {
   "cell_type": "code",
   "execution_count": 6,
   "id": "aa2265a7-619a-4ae9-97e9-fd43b6e4d1f7",
   "metadata": {},
   "outputs": [
    {
     "name": "stdin",
     "output_type": "stream",
     "text": [
      "Введіть зашифроване повідомлення:  XJOOFS\n"
     ]
    },
    {
     "name": "stdout",
     "output_type": "stream",
     "text": [
      "Розшифроване повідомлення: WINNER\n"
     ]
    }
   ],
   "source": [
    "def decrypt_caesar(ciphertext):\n",
    "\n",
    "    decrypted_message = ''\n",
    "    for char in ciphertext:\n",
    "        if char.isalpha():\n",
    "            char = char.upper()\n",
    "            code = (ord(char) - ord('A') - 1) % 26 + ord('A')\n",
    "            decrypted_message += chr(code)\n",
    "        else:\n",
    "            decrypted_message += char\n",
    "    return decrypted_message\n",
    "\n",
    "user_ciphertext = input('Введіть зашифроване повідомлення: ')\n",
    "\n",
    "decrypted_result = decrypt_caesar(user_ciphertext)\n",
    "print(\"Розшифроване повідомлення:\", decrypted_result)"
   ]
  },
  {
   "cell_type": "markdown",
   "id": "e2a1fb6a-9e61-4540-aa60-62a02aef5d50",
   "metadata": {},
   "source": [
    "5.Написати програму, яка: запитує у користувача рядок, який треба зашифрувати; запитує користувача значення зсуву (ціле число з діапазону 1-25 - примітка: Ви повинні змусити користувача ввести дійсне значення зсуву (не здавайтеся і не дозволяйте некоректним даним обдурити Вас); друкує закодований текст. Протестуйте свій код, використовуючи надані нами дані."
   ]
  },
  {
   "cell_type": "code",
   "execution_count": 7,
   "id": "301733f9-c3c9-4ac2-90b8-6166ce7e06c0",
   "metadata": {},
   "outputs": [
    {
     "name": "stdin",
     "output_type": "stream",
     "text": [
      "Введіть повідомлення для шифрування:  Winner\n",
      "Введіть кількість позицій для зсуву:  2\n"
     ]
    },
    {
     "name": "stdout",
     "output_type": "stream",
     "text": [
      "Зашифроване повідомлення: Ykppgt\n"
     ]
    }
   ],
   "source": [
    "def encrypt_caesar(message, shift):\n",
    "\n",
    "    encrypted_message = \"\"\n",
    "    for char in message:\n",
    "        if char.isalpha():\n",
    "            ascii_offset = ord('A') if char.isupper() else ord('a')\n",
    "            encrypted_char = chr((ord(char) - ascii_offset + shift) % 26 + ascii_offset)\n",
    "            encrypted_message += encrypted_char\n",
    "        else:\n",
    "            encrypted_message += char \n",
    "    return encrypted_message\n",
    "\n",
    "user_message = input(\"Введіть повідомлення для шифрування: \")\n",
    "\n",
    "shift_value = int(input(\"Введіть кількість позицій для зсуву: \"))\n",
    "\n",
    "encrypted_result = encrypt_caesar(user_message, shift_value)\n",
    "print(f\"Зашифроване повідомлення: {encrypted_result}\")"
   ]
  },
  {
   "cell_type": "markdown",
   "id": "62c5f2fa-f604-48aa-a465-852fe50dd607",
   "metadata": {},
   "source": [
    "##  Контрольні запитання"
   ]
  },
  {
   "cell_type": "markdown",
   "id": "dc837425-4a61-4dab-ad0b-8c026ec134e7",
   "metadata": {},
   "source": [
    "1.Який із наступних рядків описує справжню умову?"
   ]
  },
  {
   "cell_type": "code",
   "execution_count": 15,
   "id": "f5985c03-20a1-4de4-9081-26ce19d3f7f3",
   "metadata": {},
   "outputs": [
    {
     "data": {
      "text/plain": [
       "True"
      ]
     },
     "execution_count": 15,
     "metadata": {},
     "output_type": "execute_result"
    }
   ],
   "source": [
    "'Smith' > '1000'"
   ]
  },
  {
   "cell_type": "markdown",
   "id": "cf827a60-5d6c-45db-a4f1-1f47c9e51231",
   "metadata": {},
   "source": [
    "2.Який очікуваний результат наступного коду?"
   ]
  },
  {
   "cell_type": "code",
   "execution_count": 16,
   "id": "3b7d7bcf-88ac-4c18-b8bc-162cd2811b6a",
   "metadata": {},
   "outputs": [
    {
     "name": "stdout",
     "output_type": "stream",
     "text": [
      "are\n"
     ]
    }
   ],
   "source": [
    "s1 = 'Where are the snows of yesteryear'\n",
    "s2 = s1.split()\n",
    "s3 = sorted(s2)\n",
    "print(s3[1])"
   ]
  },
  {
   "cell_type": "markdown",
   "id": "1e8e4158-ae42-4385-81da-9ab2756be5ba",
   "metadata": {},
   "source": [
    "3.Який очікуваний результат наступного коду?"
   ]
  },
  {
   "cell_type": "markdown",
   "id": "75db50b0-0a5b-4606-8c06-4d47308f72cc",
   "metadata": {},
   "source": [
    "Cпроба викликати int('12.8') видасть помилку ValueError, оскільки рядок '12.8' не може бути перетворений у ціле число без втрати десяткової частини."
   ]
  },
  {
   "cell_type": "markdown",
   "id": "08f12ea8-35c8-4872-b1ba-e605e802adc1",
   "metadata": {},
   "source": [
    "## References"
   ]
  },
  {
   "cell_type": "markdown",
   "id": "96b6d6f5-6bc6-4c1c-88cc-09b56e1ecc73",
   "metadata": {},
   "source": [
    "1.https://github.com/wtfpanda007/Python - посилання на GitHub-репозиторій"
   ]
  }
 ],
 "metadata": {
  "kernelspec": {
   "display_name": "Python 3 (ipykernel)",
   "language": "python",
   "name": "python3"
  },
  "language_info": {
   "codemirror_mode": {
    "name": "ipython",
    "version": 3
   },
   "file_extension": ".py",
   "mimetype": "text/x-python",
   "name": "python",
   "nbconvert_exporter": "python",
   "pygments_lexer": "ipython3",
   "version": "3.11.0"
  }
 },
 "nbformat": 4,
 "nbformat_minor": 5
}
