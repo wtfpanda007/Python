{
 "cells": [
  {
   "cell_type": "markdown",
   "id": "c094dcee-a93a-4109-84d1-58ade71c6acb",
   "metadata": {},
   "source": [
    "#### 09.11.23, &copy; Kudryavets Yehor KI-21-1, 2023"
   ]
  },
  {
   "cell_type": "markdown",
   "id": "97e7b988-1851-4cca-8a8b-37d1f38ce38e",
   "metadata": {},
   "source": [
    "# Лабораторна робота №4. Логічні значення. Умовне виконання. Цикли"
   ]
  },
  {
   "cell_type": "markdown",
   "id": "68b9afc7-50b4-4e3f-a95e-5662d83fc5aa",
   "metadata": {},
   "source": [
    "__Мета:__ освоїти роботу з логічними змінними, операторами розгалуження та операторами циклів"
   ]
  },
  {
   "cell_type": "markdown",
   "id": "3801c2d9-688c-4c52-a35b-5eb99807f60c",
   "metadata": {},
   "source": [
    "# Хід роботи"
   ]
  },
  {
   "cell_type": "markdown",
   "id": "6b8783be-52f3-48c4-bbc1-3dedcdef7653",
   "metadata": {},
   "source": [
    "1.Використовуючи один з операторів порівняння в Python, напишіть просту дворядкову програму, яка приймає як вхідні дані параметр n, який є цілим числом, і друкує `False`, якщо n менше 100 і `True`, якщо n більше або дорівнює 100."
   ]
  },
  {
   "cell_type": "code",
   "execution_count": 1,
   "id": "38125b3d-e5fb-4b64-9972-5f26d7418ea0",
   "metadata": {},
   "outputs": [
    {
     "name": "stdin",
     "output_type": "stream",
     "text": [
      "Введіть ціле число n:  20\n"
     ]
    },
    {
     "name": "stdout",
     "output_type": "stream",
     "text": [
      "False\n"
     ]
    }
   ],
   "source": [
    "n = int(input(\"Введіть ціле число n: \"))\n",
    "result = n >= 100\n",
    "print(result)"
   ]
  },
  {
   "cell_type": "markdown",
   "id": "400f73de-e0c5-496a-a7c6-c14afe3cf373",
   "metadata": {},
   "source": [
    "2.Написати програму визначення найбільшого з двох дійсних чисел, використовуючи констуркцію `if-else`."
   ]
  },
  {
   "cell_type": "code",
   "execution_count": 2,
   "id": "1db311b5-3917-4a9e-a704-99bb73a65e32",
   "metadata": {},
   "outputs": [
    {
     "name": "stdin",
     "output_type": "stream",
     "text": [
      "Введіть значення i:  6\n",
      "Введіть значення j:  3\n"
     ]
    },
    {
     "name": "stdout",
     "output_type": "stream",
     "text": [
      "Найбільше значення це i:6\n"
     ]
    }
   ],
   "source": [
    "i = int(input(\"Введіть значення i: \"))\n",
    "j = int(input(\"Введіть значення j: \"))\n",
    "\n",
    "if i > j:\n",
    "    print(f\"Найбільше значення це i:{i}\")\n",
    "else:\n",
    "    print(f\"Найбільше значення це j:{j}\")"
   ]
  },
  {
   "cell_type": "markdown",
   "id": "6518eb55-70d4-41c4-85a1-1750ffa4f269",
   "metadata": {},
   "source": [
    "3.Напишіть програму, яка використовує концепцію умовного виконання, приймає рядок як вхідні дані та: виводить на екран пропозицію “Yes - Spathiphyllum is the best plant ever!”, якщо введений рядок - “Spathiphyllum” (верхній регістр)\n",
    "друкує “No, I want a big Spathiphyllum!”, якщо введений рядок - “spathiphyllum” (у нижньому регістрі) виводить “Spathiphyllum! Not [input]!” в іншому випадку."
   ]
  },
  {
   "cell_type": "code",
   "execution_count": 3,
   "id": "25c6c7eb-dbf2-43e1-a613-d45956e4bef2",
   "metadata": {},
   "outputs": [
    {
     "name": "stdin",
     "output_type": "stream",
     "text": [
      " Spathiphyllum\n"
     ]
    },
    {
     "name": "stdout",
     "output_type": "stream",
     "text": [
      "Yes - Spathiphyllum is the best plant ever\n"
     ]
    }
   ],
   "source": [
    "press_input = input()\n",
    "\n",
    "if press_input == \"Spathiphyllum\":\n",
    "    print(\"Yes - Spathiphyllum is the best plant ever\")\n",
    "elif press_input == \"spathiphyllum\":\n",
    "    print(\"No, I want a big Spathiphyllum!\")\n",
    "else:\n",
    "    print(f\"Spathiphyllum! Not {press_input}!\")"
   ]
  },
  {
   "cell_type": "markdown",
   "id": "157070f6-52ff-4935-83e9-20b8c37b94ad",
   "metadata": {},
   "source": [
    "4.Написати калькулятор податків"
   ]
  },
  {
   "cell_type": "code",
   "execution_count": 4,
   "id": "c9235d4d-e7a4-4ef6-beb2-596ee8865435",
   "metadata": {},
   "outputs": [
    {
     "name": "stdin",
     "output_type": "stream",
     "text": [
      "Enter the annual income:  12000\n"
     ]
    },
    {
     "name": "stdout",
     "output_type": "stream",
     "text": [
      "The tax is: 1604 thalers\n"
     ]
    }
   ],
   "source": [
    "bet = float(input(\"Enter the annual income: \"))\n",
    "\n",
    "if bet <= 85528:\n",
    "    tax = bet * 0.18 - 556.02\n",
    "    if tax < 0:\n",
    "        tax = 0\n",
    "else:\n",
    "    tax = 14839.02 + (bet - 85528) * 0.32\n",
    "\n",
    "tax = round(tax)\n",
    "print(\"The tax is:\", tax, \"thalers\")"
   ]
  },
  {
   "cell_type": "markdown",
   "id": "d85e0cbc-3961-4488-838d-89de20179643",
   "metadata": {},
   "source": [
    "5.Написати програму для визначення типу року(високосного або звичайного)."
   ]
  },
  {
   "cell_type": "code",
   "execution_count": 5,
   "id": "3a7862d2-afe4-4186-8975-62995ac1d128",
   "metadata": {},
   "outputs": [
    {
     "name": "stdin",
     "output_type": "stream",
     "text": [
      "Enter a year:  1000\n"
     ]
    },
    {
     "name": "stdout",
     "output_type": "stream",
     "text": [
      "Not within the Gregorian calendar period\n"
     ]
    }
   ],
   "source": [
    "year = int(input(\"Enter a year: \"))\n",
    "\n",
    "if year >= 1582:\n",
    "    if (year % 4 == 0 and year % 100 != 0) or (year % 400 == 0):\n",
    "        print(\"Leap year\")\n",
    "    else:\n",
    "        print(\"Common year\")\n",
    "else:\n",
    "    print(\"Not within the Gregorian calendar period\")"
   ]
  },
  {
   "cell_type": "markdown",
   "id": "dfe503b9-4446-4235-9019-02ad88b508c7",
   "metadata": {},
   "source": [
    "6.Написати програму яка попросить користувача ввести ціле число.Використовувавши цикл while.Перевірити, чи включає введене користувачем число з числом, вибраним фокусником. Якщо число, обране користувачем, відрізняється від секретного числа чарівника, користувач повинен побачити повідомлення \"Ха-ха! Ви застрягли у моїй петлі!\" і отримати запит на повторне введення числа. Якщо число, введене користувачем, співпадає з числом, вибраним фокусником, число має бути надруковане на екрані, і фокусник повинен вимовити наступне слово: «Молодець, магле! Тепер ти вільний»."
   ]
  },
  {
   "cell_type": "code",
   "execution_count": 6,
   "id": "9bf50ef1-f87c-4151-9470-f7159103b801",
   "metadata": {},
   "outputs": [
    {
     "name": "stdin",
     "output_type": "stream",
     "text": [
      "Введіть ціле число:  123\n"
     ]
    },
    {
     "name": "stdout",
     "output_type": "stream",
     "text": [
      "Ха-ха! Ви застрягли у моїй петлі!\n"
     ]
    },
    {
     "name": "stdin",
     "output_type": "stream",
     "text": [
      "Введіть ціле число:  456\n"
     ]
    },
    {
     "name": "stdout",
     "output_type": "stream",
     "text": [
      "Ха-ха! Ви застрягли у моїй петлі!\n"
     ]
    },
    {
     "name": "stdin",
     "output_type": "stream",
     "text": [
      "Введіть ціле число:  777\n"
     ]
    },
    {
     "name": "stdout",
     "output_type": "stream",
     "text": [
      "Молодець, магле! Тепер ти вільний. Секретне число було 777.\n"
     ]
    }
   ],
   "source": [
    "secrecy = 777\n",
    "\n",
    "while True:\n",
    "    press_input = int(input(\"Введіть ціле число: \"))\n",
    "    if press_input != secrecy:\n",
    "        print(\"Ха-ха! Ви застрягли у моїй петлі!\")\n",
    "    else:\n",
    "        print(f\"Молодець, магле! Тепер ти вільний. Секретне число було {secrecy}.\")\n",
    "        break"
   ]
  },
  {
   "cell_type": "markdown",
   "id": "8b1816af-beec-4ebd-bf9f-598fc702745a",
   "metadata": {},
   "source": [
    "7.Напишіть програму, яка використовує цикл for для «рахунку Міссісіпі» до п’яти. Порахувавши до п’яти, програма повинна вивести на екран фінальне повідомлення \"Ready or not, here I come!\""
   ]
  },
  {
   "cell_type": "code",
   "execution_count": 7,
   "id": "5d4be7df-4678-4406-baab-283c7aeae0b4",
   "metadata": {},
   "outputs": [
    {
     "name": "stdout",
     "output_type": "stream",
     "text": [
      "Міссісіпі 1\n",
      "Міссісіпі 2\n",
      "Міссісіпі 3\n",
      "Міссісіпі 4\n",
      "Міссісіпі 5\n",
      "Ready or not, here I come!\n"
     ]
    }
   ],
   "source": [
    "import time\n",
    "\n",
    "for i in range(1, 6):\n",
    "    print(\"Міссісіпі\", i)\n",
    "    time.sleep(1)\n",
    "\n",
    "print(\"Ready or not, here I come!\")"
   ]
  },
  {
   "cell_type": "markdown",
   "id": "2d89c3b6-8938-4150-a360-da63b186910c",
   "metadata": {},
   "source": [
    "8.Розробте програму, яка використовує цикл while і постійно просить користувача ввести слово, якщо користувач не вводить \"chupacabra\" як секретне вихідне слово, і в цьому випадку повідомлення \"You've successfully left the loop.\" має бути виведений на екран, а цикл має завершитись."
   ]
  },
  {
   "cell_type": "code",
   "execution_count": 8,
   "id": "f8f642d2-3f18-4eba-9efc-3f00206eda31",
   "metadata": {},
   "outputs": [
    {
     "name": "stdin",
     "output_type": "stream",
     "text": [
      "Введіть слово:  reduce\n",
      "Введіть слово:  join\n",
      "Введіть слово:  chupacabra\n"
     ]
    },
    {
     "name": "stdout",
     "output_type": "stream",
     "text": [
      "You've successfully left the loop.\n"
     ]
    }
   ],
   "source": [
    "while True:\n",
    "    press_input = input(\"Введіть слово: \")\n",
    "\n",
    "    if press_input == \"chupacabra\":\n",
    "        print(\"You've successfully left the loop.\")\n",
    "        break"
   ]
  },
  {
   "cell_type": "markdown",
   "id": "7cd1cb1c-8e4d-4646-a712-0417c5867f06",
   "metadata": {},
   "source": [
    "9.Створити програму пожирача голосних."
   ]
  },
  {
   "cell_type": "code",
   "execution_count": 9,
   "id": "26ba6209-e222-4479-a5e8-2b78b350e78c",
   "metadata": {},
   "outputs": [
    {
     "name": "stdin",
     "output_type": "stream",
     "text": [
      "Введіть слово:  capybara\n"
     ]
    },
    {
     "name": "stdout",
     "output_type": "stream",
     "text": [
      "C\n",
      "P\n",
      "Y\n",
      "B\n",
      "R\n"
     ]
    }
   ],
   "source": [
    "press_word = input(\"Введіть слово: \")\n",
    "press_word = press_word.upper()\n",
    "\n",
    "for letter in press_word:\n",
    "    if letter in \"AEIOU\":\n",
    "        continue\n",
    "    print(letter)"
   ]
  },
  {
   "cell_type": "markdown",
   "id": "482b13dc-f204-4896-8919-181548421ecf",
   "metadata": {},
   "source": [
    "10.Ваше завдання тут ще особливіше, ніж раніше: Ви повинні переробити (потворного) пожирача голосних із попереднього завдання і створити кращого, покращеного (красивого) пожирача голосних."
   ]
  },
  {
   "cell_type": "code",
   "execution_count": 11,
   "id": "dbdb8d18-fc86-476a-8435-232171ddfd73",
   "metadata": {},
   "outputs": [
    {
     "name": "stdin",
     "output_type": "stream",
     "text": [
      "Введіть слово:  qwertyuiopaeiou\n"
     ]
    },
    {
     "name": "stdout",
     "output_type": "stream",
     "text": [
      "QWRTYP\n"
     ]
    }
   ],
   "source": [
    "press_word = input(\"Введіть слово: \")\n",
    "press_word = press_word.upper()\n",
    "\n",
    "word_without_vowels = \"\"\n",
    "\n",
    "for letter in press_word:\n",
    "    if letter in \"AEIOU\":\n",
    "        continue\n",
    "    word_without_vowels += letter\n",
    "\n",
    "print(word_without_vowels)"
   ]
  },
  {
   "cell_type": "markdown",
   "id": "66389303-8bd4-4b44-b5f4-a48429ffcfb0",
   "metadata": {},
   "source": [
    "11.Написати програму, яка зчитує кількість блоків, що є у будівельників, та виводить висоту піраміди, яку можна побудувати з цих блоків."
   ]
  },
  {
   "cell_type": "code",
   "execution_count": 12,
   "id": "3aaa782c-bc85-48d1-b35d-6deda7998a9e",
   "metadata": {},
   "outputs": [
    {
     "name": "stdin",
     "output_type": "stream",
     "text": [
      "Введіть кількість доступних блоків:  300\n"
     ]
    },
    {
     "name": "stdout",
     "output_type": "stream",
     "text": [
      "Максимальна висота піраміди: 24\n"
     ]
    }
   ],
   "source": [
    "blocks = int(input(\"Введіть кількість доступних блоків: \"))\n",
    "\n",
    "height = 0  \n",
    "\n",
    "while blocks >= height + 1:\n",
    "    height += 1\n",
    "    blocks -= height\n",
    "\n",
    "print(\"Максимальна висота піраміди:\", height)"
   ]
  },
  {
   "cell_type": "markdown",
   "id": "93bae09b-a2f9-4e4b-b735-45c220807603",
   "metadata": {},
   "source": [
    "12.Напишіть програму, яка зчитує одне натуральне число і виконує вказані вище кроки до тих пір, поки c0 залишається відмінним від 1. Ми також хочемо, щоб ви підрахували кроки, необхідні для досягнення мети. Ваш код також повинен виводити усі проміжні значення c0."
   ]
  },
  {
   "cell_type": "code",
   "execution_count": 13,
   "id": "40013ef0-94ce-43c8-b88a-a0792d4b454d",
   "metadata": {},
   "outputs": [
    {
     "name": "stdin",
     "output_type": "stream",
     "text": [
      "Введіть натуральне число c0:  12\n"
     ]
    },
    {
     "name": "stdout",
     "output_type": "stream",
     "text": [
      "12\n",
      "6\n",
      "3\n",
      "10\n",
      "5\n",
      "16\n",
      "8\n",
      "4\n",
      "2\n",
      "Кількість кроків для досягнення мети: 9\n"
     ]
    }
   ],
   "source": [
    "c0 = int(input(\"Введіть натуральне число c0: \"))\n",
    "steps = 0  \n",
    "while c0 != 1:\n",
    "    print(c0) \n",
    "    if c0 % 2 == 0:\n",
    "        c0 = c0 // 2\n",
    "    else:\n",
    "        c0 = 3 * c0 + 1\n",
    "    steps += 1  \n",
    "print(\"Кількість кроків для досягнення мети:\", steps)"
   ]
  },
  {
   "cell_type": "markdown",
   "id": "be42eea3-8bac-4124-959b-26a92dce6176",
   "metadata": {},
   "source": [
    "## Контрольні запитання"
   ]
  },
  {
   "cell_type": "markdown",
   "id": "48a916d0-bbd2-4eac-aba4-ba2ebac550ec",
   "metadata": {},
   "source": [
    "1.Який вивод наступного фрагмента?"
   ]
  },
  {
   "cell_type": "code",
   "execution_count": 14,
   "id": "6915cd78-f8c9-4019-988c-9a14cf0b3b5d",
   "metadata": {},
   "outputs": [
    {
     "name": "stdout",
     "output_type": "stream",
     "text": [
      "False\n",
      "True\n"
     ]
    }
   ],
   "source": [
    "x = 5\n",
    "y = 10\n",
    "z = 8\n",
    "\n",
    "print(x > y)\n",
    "print(y > z)"
   ]
  },
  {
   "cell_type": "markdown",
   "id": "8f412173-61e4-4ba7-a746-3df026cf5053",
   "metadata": {},
   "source": [
    "2.Який вивод наступного фрагмента?"
   ]
  },
  {
   "cell_type": "code",
   "execution_count": 15,
   "id": "ade4671e-f28e-411b-b904-4ca298c06ddc",
   "metadata": {},
   "outputs": [
    {
     "name": "stdout",
     "output_type": "stream",
     "text": [
      "False\n",
      "True\n"
     ]
    }
   ],
   "source": [
    "x, y, z = 5, 10, 8\n",
    "print(x > z)\n",
    "print((y - 5) == x)"
   ]
  },
  {
   "cell_type": "markdown",
   "id": "39ee9fa7-e251-4b3a-bdf2-866bfde2e263",
   "metadata": {},
   "source": [
    "3.Який вивод наступного фрагмента?"
   ]
  },
  {
   "cell_type": "code",
   "execution_count": 16,
   "id": "1d85605a-877a-40fb-a25c-704d6315a366",
   "metadata": {},
   "outputs": [
    {
     "name": "stdout",
     "output_type": "stream",
     "text": [
      "True\n",
      "False\n"
     ]
    }
   ],
   "source": [
    "x, y, z = 5, 10, 8\n",
    "x, y, z = z, y, x\n",
    "print(x > z)\n",
    "print((y - 5) == x)"
   ]
  },
  {
   "cell_type": "markdown",
   "id": "f5369da7-16eb-40bd-9ca4-d82e6b2c2022",
   "metadata": {},
   "source": [
    "## References"
   ]
  },
  {
   "cell_type": "markdown",
   "id": "c5761fb0-eda0-4f10-b23b-afa577dd101b",
   "metadata": {},
   "source": [
    "1.https://github.com/wtfpanda007/Python - посилання на GitHub-репозиторій"
   ]
  }
 ],
 "metadata": {
  "kernelspec": {
   "display_name": "Python 3 (ipykernel)",
   "language": "python",
   "name": "python3"
  },
  "language_info": {
   "codemirror_mode": {
    "name": "ipython",
    "version": 3
   },
   "file_extension": ".py",
   "mimetype": "text/x-python",
   "name": "python",
   "nbconvert_exporter": "python",
   "pygments_lexer": "ipython3",
   "version": "3.11.0"
  }
 },
 "nbformat": 4,
 "nbformat_minor": 5
}
