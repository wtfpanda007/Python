{
 "cells": [
  {
   "cell_type": "markdown",
   "id": "a2e87b5a-f97d-4bfd-b554-3ec15fd5b0ea",
   "metadata": {},
   "source": [
    "#### 25.11.23, &copy; Kudryavets Yehor KI-21-1, 2023"
   ]
  },
  {
   "cell_type": "markdown",
   "id": "068839ef-04e3-4abf-a096-15126735a86a",
   "metadata": {},
   "source": [
    "# Лабораторна робота №12. Об’єктно-орієнтоване програмування. Частина ІI"
   ]
  },
  {
   "cell_type": "markdown",
   "id": "009c156a-22fc-46a1-880f-4a0384617a41",
   "metadata": {},
   "source": [
    "__Мета:__ навчитися програмувати в стилі об’єектно-орієнтованого програмування."
   ]
  },
  {
   "cell_type": "markdown",
   "id": "dd55c64e-7589-4984-b83d-9b15805a4fa6",
   "metadata": {},
   "source": [
    "# Хід роботи"
   ]
  },
  {
   "cell_type": "markdown",
   "id": "618175e1-b474-4a66-827c-65440eda48d3",
   "metadata": {},
   "source": [
    "1.Доповніть шаблон, який ми надали в редакторі. Запустіть свій код і перевірте, чи виглядає результат так само, як наш."
   ]
  },
  {
   "cell_type": "code",
   "execution_count": 1,
   "id": "3ec2af7e-009a-44b6-b014-153d4dc3da90",
   "metadata": {},
   "outputs": [
    {
     "name": "stdout",
     "output_type": "stream",
     "text": [
      "23:59:59\n",
      "00:00:00\n",
      "23:59:59\n"
     ]
    }
   ],
   "source": [
    "class Timer:\n",
    "    def __init__(self, hours=0, minutes=0, seconds=0):\n",
    "        self.__hours = hours\n",
    "        self.__minutes = minutes\n",
    "        self.__seconds = seconds\n",
    "\n",
    "    def __format_time(self, value):\n",
    "        return f\"{value:02}\"\n",
    "\n",
    "    def __str__(self):\n",
    "        return f\"{self.__format_time(self.__hours)}:{self.__format_time(self.__minutes)}:{self.__format_time(self.__seconds)}\"\n",
    "\n",
    "    def next_second(self):\n",
    "        self.__seconds += 1\n",
    "        if self.__seconds == 60:\n",
    "            self.__seconds = 0\n",
    "            self.__minutes += 1\n",
    "            if self.__minutes == 60:\n",
    "                self.__minutes = 0\n",
    "                self.__hours += 1\n",
    "                if self.__hours == 24:\n",
    "                    self.__hours = 0\n",
    "\n",
    "    def previous_second(self):\n",
    "        self.__seconds -= 1\n",
    "        if self.__seconds == -1:\n",
    "            self.__seconds = 59\n",
    "            self.__minutes -= 1\n",
    "            if self.__minutes == -1:\n",
    "                self.__minutes = 59\n",
    "                self.__hours -= 1\n",
    "                if self.__hours == -1:\n",
    "                    self.__hours = 23\n",
    "\n",
    "timer = Timer(23, 59, 59)\n",
    "print(timer)\n",
    "timer.next_second()\n",
    "print(timer)\n",
    "timer.previous_second()\n",
    "print(timer)"
   ]
  },
  {
   "cell_type": "markdown",
   "id": "10c6a4af-fb9f-4314-a5a3-d8afaa9da99a",
   "metadata": {},
   "source": [
    "2.Ваше завдання – реалізувати клас під назвою Weeker. Так, Ваші очі не обманюють Вас – ця назва походить від того факту, що об’єкти цього класу можуть зберігати та керувати днями тижня."
   ]
  },
  {
   "cell_type": "code",
   "execution_count": 2,
   "id": "f02a2702-da94-4bbc-8a72-6d13d9a8b1c3",
   "metadata": {},
   "outputs": [
    {
     "name": "stdout",
     "output_type": "stream",
     "text": [
      "Mon\n",
      "Tue\n",
      "Sun\n",
      "Sorry, I can't serve your request.\n"
     ]
    }
   ],
   "source": [
    "class WeekDayError(Exception):\n",
    "    pass\n",
    "\n",
    "\n",
    "class Weeker:\n",
    "    DAYS_OF_WEEK = ['Mon', 'Tue', 'Wed', 'Thu', 'Fri', 'Sat', 'Sun']\n",
    "\n",
    "    def __init__(self, day):\n",
    "        if day not in self.DAYS_OF_WEEK:\n",
    "            raise WeekDayError(\"Invalid day of the week\")\n",
    "        self.__current_day_index = self.DAYS_OF_WEEK.index(day)\n",
    "\n",
    "    def __str__(self):\n",
    "        return self.DAYS_OF_WEEK[self.__current_day_index]\n",
    "\n",
    "    def add_days(self, n):\n",
    "        self.__current_day_index = (self.__current_day_index + n) % 7\n",
    "\n",
    "    def subtract_days(self, n):\n",
    "        self.__current_day_index = (self.__current_day_index - n) % 7\n",
    "\n",
    "\n",
    "try:\n",
    "    weekday = Weeker('Mon')\n",
    "    print(weekday)\n",
    "    weekday.add_days(15)\n",
    "    print(weekday)\n",
    "    weekday.subtract_days(23)\n",
    "    print(weekday) \n",
    "    weekday = Weeker('Monday') \n",
    "except WeekDayError:\n",
    "    print(\"Sorry, I can't serve your request.\")"
   ]
  },
  {
   "cell_type": "markdown",
   "id": "41aea751-f03e-4b40-b692-49a6af2a75cb",
   "metadata": {},
   "source": [
    "3.Завдання досить просте, якщо Ви скористаєтеся функцією з ім’ям hypot() (доступна в модулі math), яка вважає довжину гіпотенузи прямокутного трикутника (докладніше тут: Гіпотенуза) і тут: Trigonometric functions."
   ]
  },
  {
   "cell_type": "code",
   "execution_count": 3,
   "id": "b5820393-d649-486e-a0ac-dff7008e9b0b",
   "metadata": {},
   "outputs": [
    {
     "name": "stdout",
     "output_type": "stream",
     "text": [
      "1.4142135623730951\n",
      "1.4142135623730951\n"
     ]
    }
   ],
   "source": [
    "import math\n",
    "\n",
    "class Point:\n",
    "    def __init__(self, x=0.0, y=0.0):\n",
    "        self.__x = x\n",
    "        self.__y = y\n",
    "\n",
    "    def getx(self):\n",
    "        return self.__x\n",
    "\n",
    "    def gety(self):\n",
    "        return self.__y\n",
    "\n",
    "    def distance_from_xy(self, x, y):\n",
    "        return math.hypot(self.__x - x, self.__y - y)\n",
    "\n",
    "    def distance_from_point(self, point):\n",
    "        return math.hypot(self.__x - point.getx(), self.__y - point.gety())\n",
    "\n",
    "\n",
    "point1 = Point(0, 0)\n",
    "point2 = Point(1, 1)\n",
    "print(point1.distance_from_point(point2)) \n",
    "print(point2.distance_from_xy(2, 0))"
   ]
  },
  {
   "cell_type": "markdown",
   "id": "2df156aa-f907-4268-b561-6d48d487d48c",
   "metadata": {},
   "source": [
    "4.Тепер ми збираємося вбудувати клас Point (див. попереднє завдання) в інший клас. Крім того, ми збираємося помістити три точки в один клас, що дозволить нам визначити трикутник. Як ми можемо це зробити?"
   ]
  },
  {
   "cell_type": "code",
   "execution_count": 4,
   "id": "5229155a-04bb-402f-a756-81e96a8d039d",
   "metadata": {},
   "outputs": [
    {
     "name": "stdout",
     "output_type": "stream",
     "text": [
      "3.414213562373095\n"
     ]
    }
   ],
   "source": [
    "import math\n",
    "class Point:\n",
    "    def __init__(self, x=0.0, y=0.0):\n",
    "        self.__x = x\n",
    "        self.__y = y\n",
    "\n",
    "    def getx(self):\n",
    "        return self.__x\n",
    "\n",
    "    def gety(self):\n",
    "        return self.__y\n",
    "\n",
    "    def distance_from_xy(self, x, y):\n",
    "        return math.hypot(self.__x - x, self.__y - y)\n",
    "\n",
    "    def distance_from_point(self, point):\n",
    "        return math.hypot(self.__x - point.getx(), self.__y - point.gety())\n",
    "\n",
    "class Triangle:\n",
    "    def __init__(self, point1, point2, point3):\n",
    "        self.__points = [point1, point2, point3]\n",
    "\n",
    "    def perimeter(self):\n",
    "        side1 = self.__points[0].distance_from_point(self.__points[1])\n",
    "        side2 = self.__points[1].distance_from_point(self.__points[2])\n",
    "        side3 = self.__points[2].distance_from_point(self.__points[0])\n",
    "        return side1 + side2 + side3\n",
    "\n",
    "point1 = Point(0, 0)\n",
    "point2 = Point(1, 0)\n",
    "point3 = Point(0, 1)\n",
    "\n",
    "triangle = Triangle(point1, point2, point3)\n",
    "print(triangle.perimeter())"
   ]
  },
  {
   "cell_type": "markdown",
   "id": "12f18cab-02da-44c9-b7ac-da86eee372c6",
   "metadata": {},
   "source": [
    "## Контрольні запитання"
   ]
  },
  {
   "cell_type": "markdown",
   "id": "dba04541-a98b-4a80-8a43-ee0f217b6473",
   "metadata": {},
   "source": [
    "Припустимо, що наступний фрагмент коду успішно виконано:"
   ]
  },
  {
   "cell_type": "code",
   "execution_count": 5,
   "id": "82dc61df-d3cd-4a57-b509-7f9b0b6701bf",
   "metadata": {},
   "outputs": [],
   "source": [
    "class Dog: \n",
    "    kennel = 0 \n",
    "    def __init__(self, breed): \n",
    "        self.breed = breed \n",
    "        Dog.kennel += 1 \n",
    "\n",
    "    def __str__(self): \n",
    "        return self.breed + \" says: Woof!\" \n",
    "\n",
    "\n",
    "class SheepDog(Dog): \n",
    "    def __str__(self): \n",
    "        return super().__str__() + \" Don't run away, Little Lamb!\" \n",
    "\n",
    "\n",
    "class GuardDog(Dog): \n",
    "     def __str__(self): \n",
    "         return super().__str__() + \" Stay where you are, Mister Intruder!\" \n",
    "\n",
    "rocky = SheepDog(\"Collie\") \n",
    "luna = GuardDog(\"Dobermann\") "
   ]
  },
  {
   "cell_type": "markdown",
   "id": "59d697ca-447c-4d7e-ae43-d16b6facc9bc",
   "metadata": {},
   "source": [
    "1.Який очікуваний вивід наступного фрагмента коду?"
   ]
  },
  {
   "cell_type": "code",
   "execution_count": 6,
   "id": "09c20c86-e5bd-462a-942f-c2f31078e7ab",
   "metadata": {},
   "outputs": [
    {
     "name": "stdout",
     "output_type": "stream",
     "text": [
      "Collie says: Woof! Don't run away, Little Lamb!\n",
      "Dobermann says: Woof! Stay where you are, Mister Intruder!\n"
     ]
    }
   ],
   "source": [
    "print(rocky)\n",
    "print(luna)"
   ]
  },
  {
   "cell_type": "markdown",
   "id": "f43ef4f0-6c1d-4c46-b783-bf2f9b1b4bef",
   "metadata": {},
   "source": [
    "2.Який очікуваний вивід наступного фрагмента коду?"
   ]
  },
  {
   "cell_type": "code",
   "execution_count": 7,
   "id": "4a65e11d-b9ca-4d87-a8ca-bbad99fe8b29",
   "metadata": {},
   "outputs": [
    {
     "name": "stdout",
     "output_type": "stream",
     "text": [
      "True False\n",
      "False True\n"
     ]
    }
   ],
   "source": [
    "print(issubclass(SheepDog, Dog), issubclass(SheepDog, GuardDog))\n",
    "print(isinstance(rocky, GuardDog), isinstance(luna, GuardDog))"
   ]
  },
  {
   "cell_type": "markdown",
   "id": "e95e2f91-f6dd-4f1f-b3c1-587b9af22b18",
   "metadata": {},
   "source": [
    "## References"
   ]
  },
  {
   "cell_type": "markdown",
   "id": "256fe167-9077-4920-b68f-efbe94aca48b",
   "metadata": {},
   "source": [
    "1.https://github.com/wtfpanda007/Python - посилання на GitHub-репозиторій"
   ]
  }
 ],
 "metadata": {
  "kernelspec": {
   "display_name": "Python 3 (ipykernel)",
   "language": "python",
   "name": "python3"
  },
  "language_info": {
   "codemirror_mode": {
    "name": "ipython",
    "version": 3
   },
   "file_extension": ".py",
   "mimetype": "text/x-python",
   "name": "python",
   "nbconvert_exporter": "python",
   "pygments_lexer": "ipython3",
   "version": "3.11.0"
  }
 },
 "nbformat": 4,
 "nbformat_minor": 5
}
