{
 "cells": [
  {
   "cell_type": "markdown",
   "id": "ea1c105c-8809-402a-a634-fe1f5fd0f8c4",
   "metadata": {},
   "source": [
    "#### 20.11.23, &copy; Kudryavets Yehor KI-21-1, 2023"
   ]
  },
  {
   "cell_type": "markdown",
   "id": "ab1ab17a-220a-4913-b447-a2b3dcc2ca84",
   "metadata": {},
   "source": [
    "# Лабораторна робота №10. Рядки. Методи рядків і списків. Винятки. Частина ІІ"
   ]
  },
  {
   "cell_type": "markdown",
   "id": "be26256b-13d2-4e8d-86f1-13090612978d",
   "metadata": {},
   "source": [
    "__Мета:__ навчитися обробляти рядки за допомогою спеціальних функцій і методів."
   ]
  },
  {
   "cell_type": "markdown",
   "id": "32bf2635-2bb8-469d-9ede-08e3dc964cae",
   "metadata": {},
   "source": [
    "# Хід роботи"
   ]
  },
  {
   "cell_type": "markdown",
   "id": "6b236689-be9d-4a13-8165-fff00aee880b",
   "metadata": {},
   "source": [
    "1.Написати програму, яка: запитує у користувача текст; перевіряє, чи є введений текст паліндромом, і друкує результат."
   ]
  },
  {
   "cell_type": "code",
   "execution_count": 1,
   "id": "5113adf4-d70a-41de-82d2-a39867dc4c59",
   "metadata": {},
   "outputs": [
    {
     "name": "stdin",
     "output_type": "stream",
     "text": [
      "Введіть текст:  A man, a plan, a canal, Panama!\n"
     ]
    },
    {
     "name": "stdout",
     "output_type": "stream",
     "text": [
      "Введений текст - паліндром.\n"
     ]
    }
   ],
   "source": [
    "def is_palindrome(text):\n",
    "    cleaned_text = ''.join(c.lower() for c in text if c.isalnum())\n",
    "    return cleaned_text == cleaned_text[::-1]\n",
    "\n",
    "user_input = input(\"Введіть текст: \")\n",
    "\n",
    "if is_palindrome(user_input):\n",
    "    print(\"Введений текст - паліндром.\")\n",
    "else:\n",
    "    print(\"Введений текст - не паліндром.\")"
   ]
  },
  {
   "cell_type": "markdown",
   "id": "06ee9fc2-0691-4c0b-a805-edff227d7668",
   "metadata": {},
   "source": [
    "2.Ваше завдання – написати програму, яка: запитує у користувача два окремі тексти;перевіряє, чи введені тексти є анаграмами, і виводить результат."
   ]
  },
  {
   "cell_type": "code",
   "execution_count": 2,
   "id": "b0462bbf-132a-42ae-81d4-8825fffb7e3f",
   "metadata": {},
   "outputs": [
    {
     "name": "stdin",
     "output_type": "stream",
     "text": [
      "Введіть перший текст:  triangle\n",
      "Введіть другий текст:  integral\n"
     ]
    },
    {
     "name": "stdout",
     "output_type": "stream",
     "text": [
      "Введені тексти - анаграми.\n"
     ]
    }
   ],
   "source": [
    "def are_anagrams(text1, text2):\n",
    "    \n",
    "    cleaned_text1 = ''.join(c.lower() for c in text1 if c.isalnum())\n",
    "    cleaned_text2 = ''.join(c.lower() for c in text2 if c.isalnum())\n",
    "    return sorted(cleaned_text1) == sorted(cleaned_text2)\n",
    "\n",
    "text1 = input(\"Введіть перший текст: \")\n",
    "text2 = input(\"Введіть другий текст: \")\n",
    "\n",
    "if are_anagrams(text1, text2):\n",
    "    print(\"Введені тексти - анаграми.\")\n",
    "else:\n",
    "    print(\"Введені тексти - не анаграми.\")"
   ]
  },
  {
   "cell_type": "markdown",
   "id": "d5370735-d9fa-4939-b58a-5169fecd8098",
   "metadata": {},
   "source": [
    "3.Написати програму, яка:запитує користувача про його/її день народження (у форматі РРРГММДД, або РРРРДДММ, або ММДДРРРР - фактично порядок цифр не має значення); виводить цифру життя для дати. Протестуйте свій код, використовуючи надані нами дані."
   ]
  },
  {
   "cell_type": "code",
   "execution_count": 4,
   "id": "8c87211d-8d6a-4957-bacb-20c81719311b",
   "metadata": {},
   "outputs": [
    {
     "name": "stdin",
     "output_type": "stream",
     "text": [
      "Введіть дату народження (у форматі РРРГММДД, РРРРДДММ або ММДДРРРР):  20001212\n"
     ]
    },
    {
     "name": "stdout",
     "output_type": "stream",
     "text": [
      "Цифра життя: 8\n"
     ]
    }
   ],
   "source": [
    "def calculate_life_number(birth_date):\n",
    "\n",
    "    cleaned_date = ''.join(char for char in birth_date if char.isdigit())\n",
    "\n",
    "    while len(cleaned_date) > 1:\n",
    "        cleaned_date = str(sum(int(digit) for digit in cleaned_date))\n",
    "\n",
    "    return int(cleaned_date)\n",
    "\n",
    "user_birth_date = input(\"Введіть дату народження (у форматі РРРГММДД, РРРРДДММ або ММДДРРРР): \")\n",
    "\n",
    "try:\n",
    "    life_number = calculate_life_number(user_birth_date)\n",
    "    print(\"Цифра життя:\", life_number)\n",
    "except ValueError:\n",
    "    print(\"Неправильний формат дати. Використовуйте формат РРРГММДД, РРРРДДММ або ММДДРРРР.\")"
   ]
  },
  {
   "cell_type": "markdown",
   "id": "6b11c40b-b3ba-4b89-8a58-4d763a67084b",
   "metadata": {},
   "source": [
    "4.Написати програму, яка відповість на наступне запитання: символи, що становлять перший рядок, приховані всередині другого рядка?"
   ]
  },
  {
   "cell_type": "code",
   "execution_count": 5,
   "id": "91ca5a3f-d3c1-450b-81f7-81b743ea619d",
   "metadata": {},
   "outputs": [
    {
     "name": "stdin",
     "output_type": "stream",
     "text": [
      "Введіть перший рядок:  abc\n",
      "Введіть другий рядок:  aabbcc\n"
     ]
    },
    {
     "name": "stdout",
     "output_type": "stream",
     "text": [
      "Символи першого рядка приховані всередині другого.\n"
     ]
    }
   ],
   "source": [
    "def are_characters_hidden(first_string, second_string):\n",
    "    index = 0\n",
    "    for char in second_string:\n",
    "        if index < len(first_string) and char == first_string[index]:\n",
    "            index += 1\n",
    "\n",
    "    return index == len(first_string)\n",
    "\n",
    "user_first_string = input(\"Введіть перший рядок: \")\n",
    "user_second_string = input(\"Введіть другий рядок: \")\n",
    "\n",
    "if are_characters_hidden(user_first_string, user_second_string):\n",
    "    print(\"Символи першого рядка приховані всередині другого.\")\n",
    "else:\n",
    "    print(\"Символи першого рядка не приховані всередині другого.\")"
   ]
  },
  {
   "cell_type": "markdown",
   "id": "b06a30ce-4e44-4dfa-ab7c-2c7633ad7b38",
   "metadata": {},
   "source": [
    "5.Можна “ловити” і обробляти винятки в Python за допомогою try-except блоку. Отже, якщо у є підозра, що будь-який конкретний шматок коду може викликати виняток, можна написати код, який коректно оброблятиме його і не припинить виконання програми:"
   ]
  },
  {
   "cell_type": "code",
   "execution_count": 6,
   "id": "ff55b22b-5457-41ec-bc2a-c6ae1ea833d8",
   "metadata": {},
   "outputs": [
    {
     "name": "stdin",
     "output_type": "stream",
     "text": [
      "Введіть ціле число:  b\n"
     ]
    },
    {
     "name": "stdout",
     "output_type": "stream",
     "text": [
      "Помилка: Введене значення не є допустимим цілим числом. Повторіть спробу...\n"
     ]
    },
    {
     "name": "stdin",
     "output_type": "stream",
     "text": [
      "Введіть ціле число:  4\n"
     ]
    },
    {
     "name": "stdout",
     "output_type": "stream",
     "text": [
      "Результат:  2.0\n"
     ]
    }
   ],
   "source": [
    "while True:\n",
    "    try:\n",
    "        number = int(input(\"Введіть ціле число: \"))\n",
    "        result = number / 2\n",
    "        print(\"Результат: \", result)\n",
    "        break\n",
    "    except ValueError:\n",
    "        print(\"Помилка: Введене значення не є допустимим цілим числом. Повторіть спробу...\")"
   ]
  },
  {
   "cell_type": "markdown",
   "id": "e7240807-d20a-473f-af31-7862fdbf3a98",
   "metadata": {},
   "source": [
    "6.Модифікувати код з Прикладу 3 таким чином, щоби виняток, який виникає при введені, оброблявся і забезпечував функціонування програми."
   ]
  },
  {
   "cell_type": "code",
   "execution_count": 7,
   "id": "10fa6b62-f926-437c-acc6-cd3947414a5b",
   "metadata": {},
   "outputs": [
    {
     "name": "stdin",
     "output_type": "stream",
     "text": [
      "Введіть дату народження (у форматі РРРГММДД, РРРРДДММ або ММДДРРРР):  gjflgnfvbcj1232\n"
     ]
    },
    {
     "name": "stdout",
     "output_type": "stream",
     "text": [
      "Помилка: Неправильний формат дати. Використовуйте формат РРРГММДД, РРРРДДММ або ММДДРРРР.\n"
     ]
    },
    {
     "name": "stdin",
     "output_type": "stream",
     "text": [
      "Введіть дату народження (у форматі РРРГММДД, РРРРДДММ або ММДДРРРР):  20001212\n"
     ]
    },
    {
     "name": "stdout",
     "output_type": "stream",
     "text": [
      "Цифра життя: 8\n"
     ]
    }
   ],
   "source": [
    "def calculate_life_number(birth_date):\n",
    "\n",
    "    cleaned_date = ''.join(char for char in birth_date if char.isdigit())\n",
    "\n",
    "    if not cleaned_date or len(cleaned_date) < 8:\n",
    "        return None\n",
    "\n",
    "    while len(cleaned_date) > 1:\n",
    "        cleaned_date = str(sum(int(digit) for digit in cleaned_date))\n",
    "\n",
    "    return int(cleaned_date)\n",
    "\n",
    "while True:\n",
    "    try:\n",
    "        user_birth_date = input(\"Введіть дату народження (у форматі РРРГММДД, РРРРДДММ або ММДДРРРР): \")\n",
    "        life_number = calculate_life_number(user_birth_date)\n",
    "\n",
    "        if life_number is not None:\n",
    "            print(\"Цифра життя:\", life_number)\n",
    "            break\n",
    "        else:\n",
    "            print(\"Помилка: Неправильний формат дати. Використовуйте формат РРРГММДД, РРРРДДММ або ММДДРРРР.\")\n",
    "    except ValueError:\n",
    "        print(\"Помилка: Неправильний формат дати. Використовуйте формат РРРГММДД, РРРРДДММ або ММДДРРРР.\")"
   ]
  },
  {
   "cell_type": "markdown",
   "id": "444778e2-b375-4198-81d1-05b96612d0fb",
   "metadata": {},
   "source": [
    "7.Ваше завдання – написати функцію, здатну набувати цілочисельних значень і перевіряти, чи знаходяться вони в зазначеному діапазоні."
   ]
  },
  {
   "cell_type": "code",
   "execution_count": 9,
   "id": "2513e728-27b5-40dc-b6e5-9acf929d1e76",
   "metadata": {},
   "outputs": [
    {
     "name": "stdin",
     "output_type": "stream",
     "text": [
      "Введіть ціле число:  21\n"
     ]
    },
    {
     "name": "stdout",
     "output_type": "stream",
     "text": [
      "Число 21 не знаходиться в діапазоні від 10 до 20.\n"
     ]
    }
   ],
   "source": [
    "def is_in_range(number, start, end):\n",
    "\n",
    "    return start <= number <= end\n",
    "\n",
    "start_range = 10\n",
    "end_range = 20\n",
    "\n",
    "try:\n",
    "    user_input = int(input(\"Введіть ціле число: \"))\n",
    "\n",
    "    if is_in_range(user_input, start_range, end_range):\n",
    "        print(f\"Число {user_input} знаходиться в діапазоні від {start_range} до {end_range}.\")\n",
    "    else:\n",
    "        print(f\"Число {user_input} не знаходиться в діапазоні від {start_range} до {end_range}.\")\n",
    "\n",
    "except ValueError:\n",
    "    print(\"Помилка: Введіть ціле число.\")"
   ]
  },
  {
   "cell_type": "markdown",
   "id": "416bf8ce-13ba-4cff-a38a-5aecc7649e48",
   "metadata": {},
   "source": [
    "## Контрольні запитання"
   ]
  },
  {
   "cell_type": "markdown",
   "id": "7a6bd907-1fb7-443f-bf52-e2cafb02f2e8",
   "metadata": {},
   "source": [
    "1.Який очікуваний вивід наступного коду?"
   ]
  },
  {
   "cell_type": "code",
   "execution_count": 10,
   "id": "ea87e8dc-4902-4927-9daa-b5290992cf7e",
   "metadata": {},
   "outputs": [
    {
     "name": "stdout",
     "output_type": "stream",
     "text": [
      "Let's try to do this!\n",
      "We failed!\n",
      "We're done\n"
     ]
    }
   ],
   "source": [
    "try:\n",
    "    print(\"Let's try to do this!\")\n",
    "    print(\"#\"[2])\n",
    "    print(\"We succeeded!\")\n",
    "except:\n",
    "    print(\"We failed!\")\n",
    "print(\"We're done\")"
   ]
  },
  {
   "cell_type": "markdown",
   "id": "bff8b937-018e-414a-bf7c-b02ec57bcde2",
   "metadata": {},
   "source": [
    "2.Який очікуваний результат наступного коду?"
   ]
  },
  {
   "cell_type": "code",
   "execution_count": 11,
   "id": "61344ccd-8e55-4dcb-9936-5b23197c965c",
   "metadata": {
    "scrolled": true
   },
   "outputs": [
    {
     "name": "stdout",
     "output_type": "stream",
     "text": [
      "zero\n"
     ]
    }
   ],
   "source": [
    "    try:\n",
    "        print(\"alpha\"[1/0])\n",
    "    except ZeroDivisionError:\n",
    "        print(\"zero\")\n",
    "    except IndexingError:\n",
    "        print(\"index\")\n",
    "    except:\n",
    "        print(\"some\")"
   ]
  },
  {
   "cell_type": "markdown",
   "id": "8d9c7020-3eec-4002-836a-8cf34dc9f3e9",
   "metadata": {},
   "source": [
    "## References"
   ]
  },
  {
   "cell_type": "markdown",
   "id": "94d46a98-dd63-4cd2-9fd0-a9239a9aac46",
   "metadata": {},
   "source": [
    "1.https://github.com/wtfpanda007/Python - посилання на GitHub-репозиторій"
   ]
  }
 ],
 "metadata": {
  "kernelspec": {
   "display_name": "Python 3 (ipykernel)",
   "language": "python",
   "name": "python3"
  },
  "language_info": {
   "codemirror_mode": {
    "name": "ipython",
    "version": 3
   },
   "file_extension": ".py",
   "mimetype": "text/x-python",
   "name": "python",
   "nbconvert_exporter": "python",
   "pygments_lexer": "ipython3",
   "version": "3.11.0"
  }
 },
 "nbformat": 4,
 "nbformat_minor": 5
}
